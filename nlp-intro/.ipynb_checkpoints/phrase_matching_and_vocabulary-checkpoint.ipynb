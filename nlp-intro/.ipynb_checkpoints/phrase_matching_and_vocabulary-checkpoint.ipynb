{
 "cells": [
  {
   "cell_type": "code",
   "execution_count": 3,
   "id": "communist-mason",
   "metadata": {},
   "outputs": [],
   "source": [
    "import spacy"
   ]
  },
  {
   "cell_type": "code",
   "execution_count": 4,
   "id": "absent-destiny",
   "metadata": {},
   "outputs": [],
   "source": [
    "nlp=spacy.load('en_core_web_sm')"
   ]
  },
  {
   "cell_type": "code",
   "execution_count": 5,
   "id": "legal-shift",
   "metadata": {},
   "outputs": [],
   "source": [
    "from spacy.matcher import Matcher"
   ]
  },
  {
   "cell_type": "code",
   "execution_count": 6,
   "id": "humanitarian-penguin",
   "metadata": {},
   "outputs": [],
   "source": [
    "matcher = Matcher(nlp.vocab)"
   ]
  },
  {
   "cell_type": "code",
   "execution_count": 7,
   "id": "generous-major",
   "metadata": {},
   "outputs": [],
   "source": [
    "#here the macther, is an objec,t that pairs with the current vocab object"
   ]
  },
  {
   "cell_type": "code",
   "execution_count": 8,
   "id": "electronic-millennium",
   "metadata": {},
   "outputs": [],
   "source": [
    "#SolarPower\n",
    "\n",
    "#Solar power\n",
    "pattern1 = [{'LOWER':'solarpower'}]\n",
    "\n",
    "pattern2=[{'LOWER':'solar'},{'IS_PUNCT':True},{'LOWER':'power'}]\n",
    "#Solar-power\n",
    "pattern3=[{'LOWER':'solar'},{'LOWER':'power'}]"
   ]
  },
  {
   "cell_type": "code",
   "execution_count": 10,
   "id": "emotional-nashville",
   "metadata": {},
   "outputs": [],
   "source": [
    "patterns=[pattern1,pattern2,pattern3]\n",
    "matcher.add('SolarPower',patterns)\n"
   ]
  },
  {
   "cell_type": "code",
   "execution_count": 11,
   "id": "committed-meeting",
   "metadata": {},
   "outputs": [],
   "source": [
    "doc=nlp(u\"The Solar Power industry continues to grow a solarpower increases.Solar-power is \")"
   ]
  },
  {
   "cell_type": "code",
   "execution_count": 12,
   "id": "early-expansion",
   "metadata": {},
   "outputs": [],
   "source": [
    "found_matches = matcher(doc)"
   ]
  },
  {
   "cell_type": "code",
   "execution_count": 13,
   "id": "quick-billy",
   "metadata": {},
   "outputs": [
    {
     "name": "stdout",
     "output_type": "stream",
     "text": [
      "[(8656102463236116519, 1, 3), (8656102463236116519, 8, 9), (8656102463236116519, 11, 14)]\n"
     ]
    }
   ],
   "source": [
    "print(found_matches)\n",
    "#here the 1 and 3, are the tokens\n",
    "#Solar is at token 1"
   ]
  },
  {
   "cell_type": "code",
   "execution_count": 14,
   "id": "residential-virus",
   "metadata": {},
   "outputs": [
    {
     "name": "stdout",
     "output_type": "stream",
     "text": [
      "8656102463236116519 SolarPower 1 3 Solar Power\n",
      "8656102463236116519 SolarPower 8 9 solarpower\n",
      "8656102463236116519 SolarPower 11 14 Solar-power\n"
     ]
    }
   ],
   "source": [
    "for match_id,start,end in found_matches:\n",
    "    string_id = nlp.vocab.strings[match_id] #get string representation\n",
    "    span = doc[start:end]\n",
    "    print(match_id,string_id,start,end,span.text)"
   ]
  },
  {
   "cell_type": "markdown",
   "id": "saved-convergence",
   "metadata": {},
   "source": [
    "the `match_id` is simply the hash value of the `string_id` 'SolarPower'"
   ]
  },
  {
   "cell_type": "code",
   "execution_count": null,
   "id": "defensive-funds",
   "metadata": {},
   "outputs": [],
   "source": []
  }
 ],
 "metadata": {
  "kernelspec": {
   "display_name": "Python 3",
   "language": "python",
   "name": "python3"
  },
  "language_info": {
   "codemirror_mode": {
    "name": "ipython",
    "version": 3
   },
   "file_extension": ".py",
   "mimetype": "text/x-python",
   "name": "python",
   "nbconvert_exporter": "python",
   "pygments_lexer": "ipython3",
   "version": "3.8.5"
  }
 },
 "nbformat": 4,
 "nbformat_minor": 5
}
