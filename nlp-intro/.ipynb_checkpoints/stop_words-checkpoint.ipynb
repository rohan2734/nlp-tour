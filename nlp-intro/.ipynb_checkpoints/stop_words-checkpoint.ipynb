{
 "cells": [
  {
   "cell_type": "code",
   "execution_count": 2,
   "id": "lined-milton",
   "metadata": {},
   "outputs": [],
   "source": [
    "import spacy"
   ]
  },
  {
   "cell_type": "code",
   "execution_count": 3,
   "id": "approved-sampling",
   "metadata": {},
   "outputs": [],
   "source": [
    "nlp=spacy.load('en_core_web_sm')"
   ]
  },
  {
   "cell_type": "code",
   "execution_count": 4,
   "id": "imported-baseball",
   "metadata": {},
   "outputs": [
    {
     "name": "stdout",
     "output_type": "stream",
     "text": [
      "{'do', 'whose', 'while', 'though', 'same', 'if', 'among', 'next', 'two', 'eleven', 'nevertheless', 'also', '’s', 'becomes', 'forty', 'just', 'himself', 'or', 'beside', 'up', 'however', 'former', 'whence', 'anything', 'your', 'anyone', 'are', 'she', 'yet', 'latter', 'then', 'therein', 'amount', 'below', 'off', 'have', 'is', 'make', 'somehow', 'before', 'at', 'has', 'noone', 'made', 'something', 'although', 'were', 'when', 'most', 're', 'you', \"'re\", 'therefore', 'other', 'top', 'give', 'and', 'nothing', 'almost', 'those', 'beyond', '’d', 'along', 'our', 'wherever', \"'d\", 'why', 'whoever', 'others', 'using', 'done', 'further', 'side', 'really', 'their', 'whereupon', 'hundred', 'all', \"'s\", 'own', 'yourself', 'this', 'ten', 'latterly', 'with', 'some', 'down', 'regarding', 'not', 'enough', 'me', 'due', 'must', 'than', 'seemed', 'several', 'quite', 'might', 'because', 'take', 'towards', '‘ve', 'see', 'too', 'everyone', 'eight', 'except', 'be', 'did', 'myself', 'that', 'being', 'per', 'keep', 'am', 'for', 'through', '’re', 'anyway', 'never', 'without', 'less', 'its', 'within', 'from', 'would', 'her', 'unless', 'always', 'someone', 'part', '‘ll', 'twenty', 'whither', '‘s', 'been', \"'m\", 'hereby', 'get', 'somewhere', 'still', 'rather', 'around', 'became', 'anyhow', 'he', 'third', 'mostly', 'together', 'thru', 'upon', 'can', 'whereas', 'here', 'where', 'amongst', '’ve', 'during', 'four', 'afterwards', 'the', 'any', 'formerly', 'so', 'once', 'each', 'sixty', 'three', '‘d', 'thereupon', 'bottom', 'well', 'namely', 'itself', 'seems', 'them', 'throughout', 'between', 'often', 'already', 'n’t', 'go', 'onto', '’ll', 'such', 'against', 'fifteen', 'we', 'besides', 'an', 'thereby', 'had', 'via', 'herein', 'call', 'under', 'across', 'on', 'first', 'to', 'sometime', 'him', 'thereafter', 'name', 'now', 'whom', 'which', 'empty', 'no', 'front', 'few', 'after', 'in', 'none', 'either', 'hereafter', 'was', 'back', 'become', 'both', 'ca', \"'ll\", 'nor', 'say', 'alone', 'thus', 'a', 'meanwhile', 'else', \"n't\", 'i', 'yourselves', 'nine', 'hence', 'herself', 'there', 'nowhere', 'seeming', 'above', 'may', 'doing', 'put', 'whenever', '’m', 'should', 'by', 'ours', 'everywhere', 'but', 'could', 'more', 'neither', 'until', 'it', 'they', 'whereafter', 'even', 'sometimes', 'of', 'perhaps', 'hereupon', 'toward', 'ever', 'whether', 'as', 'show', 'various', 'these', 'seem', \"'ve\", 'six', 'another', 'who', 'behind', 'out', 'moreover', 'fifty', 'every', 'least', 'very', 'thence', 'will', 'otherwise', 'last', 'becoming', 'much', 'wherein', 'since', 'us', '‘m', 'five', 'my', 'whole', 'about', 'twelve', 'n‘t', 'please', 'elsewhere', 'anywhere', 'beforehand', 'move', 'serious', 'themselves', 'used', 'one', 'only', 'his', 'whatever', 'many', 'into', 'everything', 'again', 'full', '‘re', 'how', 'hers', 'nobody', 'does', 'what', 'yours', 'mine', 'ourselves', 'whereby', 'over', 'cannot', 'indeed'}\n"
     ]
    }
   ],
   "source": [
    "print(nlp.Defaults.stop_words)"
   ]
  },
  {
   "cell_type": "code",
   "execution_count": 5,
   "id": "understood-submission",
   "metadata": {},
   "outputs": [
    {
     "data": {
      "text/plain": [
       "326"
      ]
     },
     "execution_count": 5,
     "metadata": {},
     "output_type": "execute_result"
    }
   ],
   "source": [
    "len(nlp.Defaults.stop_words)"
   ]
  },
  {
   "cell_type": "code",
   "execution_count": 13,
   "id": "aquatic-commitment",
   "metadata": {},
   "outputs": [
    {
     "data": {
      "text/plain": [
       "True"
      ]
     },
     "execution_count": 13,
     "metadata": {},
     "output_type": "execute_result"
    }
   ],
   "source": [
    "nlp.vocab['am'].is_stop"
   ]
  },
  {
   "cell_type": "code",
   "execution_count": 14,
   "id": "electric-image",
   "metadata": {},
   "outputs": [],
   "source": [
    "nlp.Defaults.stop_words.add('btw')"
   ]
  },
  {
   "cell_type": "code",
   "execution_count": 15,
   "id": "artistic-finish",
   "metadata": {},
   "outputs": [],
   "source": [
    "nlp.vocab['btw'].is_stop=True"
   ]
  },
  {
   "cell_type": "code",
   "execution_count": 16,
   "id": "flush-bahamas",
   "metadata": {},
   "outputs": [
    {
     "data": {
      "text/plain": [
       "327"
      ]
     },
     "execution_count": 16,
     "metadata": {},
     "output_type": "execute_result"
    }
   ],
   "source": [
    "len(nlp.Defaults.stop_words)"
   ]
  },
  {
   "cell_type": "code",
   "execution_count": 17,
   "id": "presidential-hawaiian",
   "metadata": {},
   "outputs": [
    {
     "data": {
      "text/plain": [
       "True"
      ]
     },
     "execution_count": 17,
     "metadata": {},
     "output_type": "execute_result"
    }
   ],
   "source": [
    "nlp.vocab['btw'].is_stop"
   ]
  },
  {
   "cell_type": "code",
   "execution_count": 18,
   "id": "neural-consumer",
   "metadata": {},
   "outputs": [],
   "source": [
    "nlp.Defaults.stop_words.remove('his')"
   ]
  },
  {
   "cell_type": "code",
   "execution_count": 19,
   "id": "infinite-folder",
   "metadata": {},
   "outputs": [
    {
     "data": {
      "text/plain": [
       "False"
      ]
     },
     "execution_count": 19,
     "metadata": {},
     "output_type": "execute_result"
    }
   ],
   "source": [
    "nlp.vocab['his'].is_stop"
   ]
  },
  {
   "cell_type": "code",
   "execution_count": null,
   "id": "joint-verification",
   "metadata": {},
   "outputs": [],
   "source": []
  }
 ],
 "metadata": {
  "kernelspec": {
   "display_name": "Python 3",
   "language": "python",
   "name": "python3"
  },
  "language_info": {
   "codemirror_mode": {
    "name": "ipython",
    "version": 3
   },
   "file_extension": ".py",
   "mimetype": "text/x-python",
   "name": "python",
   "nbconvert_exporter": "python",
   "pygments_lexer": "ipython3",
   "version": "3.8.5"
  }
 },
 "nbformat": 4,
 "nbformat_minor": 5
}
