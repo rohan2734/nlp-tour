{
 "cells": [
  {
   "cell_type": "code",
   "execution_count": 1,
   "id": "communist-mason",
   "metadata": {},
   "outputs": [],
   "source": [
    "import spacy"
   ]
  },
  {
   "cell_type": "code",
   "execution_count": 2,
   "id": "absent-destiny",
   "metadata": {},
   "outputs": [],
   "source": [
    "nlp=spacy.load('en_core_web_sm')"
   ]
  },
  {
   "cell_type": "code",
   "execution_count": 3,
   "id": "legal-shift",
   "metadata": {},
   "outputs": [],
   "source": [
    "from spacy.matcher import Matcher"
   ]
  },
  {
   "cell_type": "code",
   "execution_count": 4,
   "id": "humanitarian-penguin",
   "metadata": {},
   "outputs": [],
   "source": [
    "matcher = Matcher(nlp.vocab)"
   ]
  },
  {
   "cell_type": "code",
   "execution_count": 5,
   "id": "generous-major",
   "metadata": {},
   "outputs": [],
   "source": [
    "#here the macther, is an objec,t that pairs with the current vocab object"
   ]
  },
  {
   "cell_type": "code",
   "execution_count": 6,
   "id": "electronic-millennium",
   "metadata": {},
   "outputs": [],
   "source": [
    "#SolarPower\n",
    "\n",
    "#Solar power\n",
    "pattern1 = [{'LOWER':'solarpower'}]\n",
    "\n",
    "pattern2=[{'LOWER':'solar'},{'IS_PUNCT':True},{'LOWER':'power'}]\n",
    "#Solar-power\n",
    "pattern3=[{'LOWER':'solar'},{'LOWER':'power'}]"
   ]
  },
  {
   "cell_type": "code",
   "execution_count": 7,
   "id": "emotional-nashville",
   "metadata": {},
   "outputs": [],
   "source": [
    "patterns=[pattern1,pattern2,pattern3]\n",
    "matcher.add('SolarPower',patterns)\n"
   ]
  },
  {
   "cell_type": "code",
   "execution_count": 8,
   "id": "environmental-retention",
   "metadata": {},
   "outputs": [],
   "source": [
    "doc=nlp(u\"The Solar Power industry continues to grow a solarpower increases.Solar-power is \")"
   ]
  },
  {
   "cell_type": "code",
   "execution_count": 9,
   "id": "willing-article",
   "metadata": {},
   "outputs": [],
   "source": [
    "found_matches = matcher(doc)"
   ]
  },
  {
   "cell_type": "code",
   "execution_count": 10,
   "id": "political-fifty",
   "metadata": {},
   "outputs": [
    {
     "name": "stdout",
     "output_type": "stream",
     "text": [
      "[(8656102463236116519, 1, 3), (8656102463236116519, 8, 9), (8656102463236116519, 11, 14)]\n"
     ]
    }
   ],
   "source": [
    "print(found_matches)\n",
    "#here the 1 and 3, are the tokens\n",
    "#Solar is at token 1"
   ]
  },
  {
   "cell_type": "code",
   "execution_count": 11,
   "id": "tested-honor",
   "metadata": {},
   "outputs": [
    {
     "name": "stdout",
     "output_type": "stream",
     "text": [
      "8656102463236116519 SolarPower 1 3 Solar Power\n",
      "8656102463236116519 SolarPower 8 9 solarpower\n",
      "8656102463236116519 SolarPower 11 14 Solar-power\n"
     ]
    }
   ],
   "source": [
    "for match_id,start,end in found_matches:\n",
    "    string_id = nlp.vocab.strings[match_id] #get string representation\n",
    "    span = doc[start:end]\n",
    "    print(match_id,string_id,start,end,span.text)"
   ]
  },
  {
   "cell_type": "markdown",
   "id": "lightweight-fundamental",
   "metadata": {},
   "source": [
    "the `match_id` is simply the hash value of the `string_id` 'SolarPower'"
   ]
  },
  {
   "cell_type": "code",
   "execution_count": 15,
   "id": "plain-wrist",
   "metadata": {},
   "outputs": [],
   "source": [
    "matcher.remove('SolarPower')"
   ]
  },
  {
   "cell_type": "code",
   "execution_count": 16,
   "id": "annual-grove",
   "metadata": {},
   "outputs": [],
   "source": [
    "pattern1 = [{'LOWER':'solarpower'}]\n",
    "pattern2 = [{'LOWER':'solar'},{'IS_PUNCT':True,'OP':'*'},{'LOWER':'power'}]\n",
    "#op allows,pattern to match, 0 or more times\n"
   ]
  },
  {
   "cell_type": "code",
   "execution_count": 17,
   "id": "frank-producer",
   "metadata": {},
   "outputs": [],
   "source": [
    "patterns=[pattern1,pattern2]\n",
    "matcher.add('SolarPower',patterns)"
   ]
  },
  {
   "cell_type": "code",
   "execution_count": 18,
   "id": "covered-lawsuit",
   "metadata": {},
   "outputs": [],
   "source": [
    "doc2=nlp(u\"Solar--power is solarpower yay!\")"
   ]
  },
  {
   "cell_type": "code",
   "execution_count": 19,
   "id": "neutral-somalia",
   "metadata": {},
   "outputs": [],
   "source": [
    "found_matches_2=matcher(doc2)"
   ]
  },
  {
   "cell_type": "code",
   "execution_count": 20,
   "id": "hairy-florida",
   "metadata": {},
   "outputs": [
    {
     "name": "stdout",
     "output_type": "stream",
     "text": [
      "8656102463236116519 SolarPower 0 3 The Solar Power\n",
      "8656102463236116519 SolarPower 4 5 continues\n"
     ]
    }
   ],
   "source": [
    "for match_id,start,end in found_matches_2:\n",
    "    string_id = nlp.vocab.strings[match_id] #get string representation\n",
    "    span = doc[start:end]\n",
    "    print(match_id,string_id,start,end,span.text)"
   ]
  },
  {
   "cell_type": "code",
   "execution_count": null,
   "id": "instant-cocktail",
   "metadata": {},
   "outputs": [],
   "source": [
    "\n"
   ]
  },
  {
   "cell_type": "code",
   "execution_count": 34,
   "id": "racial-pantyhose",
   "metadata": {},
   "outputs": [],
   "source": [
    "from spacy.matcher import PhraseMatcher"
   ]
  },
  {
   "cell_type": "code",
   "execution_count": 35,
   "id": "outdoor-cocktail",
   "metadata": {},
   "outputs": [],
   "source": [
    "matcher = PhraseMatcher(nlp.vocab)"
   ]
  },
  {
   "cell_type": "code",
   "execution_count": 36,
   "id": "streaming-hierarchy",
   "metadata": {},
   "outputs": [],
   "source": [
    "with open('./reaganomics.txt') as f:\n",
    "    doc3=nlp(f.read())"
   ]
  },
  {
   "cell_type": "code",
   "execution_count": 37,
   "id": "numerical-unknown",
   "metadata": {},
   "outputs": [],
   "source": [
    "phrase_list=['voodoo economics','supply-side economics','trickle-down economics','free-market economics']"
   ]
  },
  {
   "cell_type": "code",
   "execution_count": 38,
   "id": "adjusted-pasta",
   "metadata": {},
   "outputs": [
    {
     "data": {
      "text/plain": [
       "list"
      ]
     },
     "execution_count": 38,
     "metadata": {},
     "output_type": "execute_result"
    }
   ],
   "source": [
    "phrase_patterns = [nlp(text) for text in phrase_list] \n",
    "#for each  text in phrase_list, we are creating its own document object\n",
    "phrase_patterns\n",
    "type(phrase_patterns)"
   ]
  },
  {
   "cell_type": "code",
   "execution_count": 39,
   "id": "completed-module",
   "metadata": {},
   "outputs": [],
   "source": [
    "matcher.add('EconMatcher',None,*phrase_patterns)"
   ]
  },
  {
   "cell_type": "code",
   "execution_count": 40,
   "id": "micro-heather",
   "metadata": {},
   "outputs": [],
   "source": [
    "found_matches = matcher(doc3)"
   ]
  },
  {
   "cell_type": "code",
   "execution_count": 41,
   "id": "fallen-intermediate",
   "metadata": {},
   "outputs": [
    {
     "data": {
      "text/plain": [
       "[(3680293220734633682, 41, 45),\n",
       " (3680293220734633682, 49, 53),\n",
       " (3680293220734633682, 54, 56),\n",
       " (3680293220734633682, 61, 65),\n",
       " (3680293220734633682, 673, 677),\n",
       " (3680293220734633682, 2987, 2991)]"
      ]
     },
     "execution_count": 41,
     "metadata": {},
     "output_type": "execute_result"
    }
   ],
   "source": [
    "found_matches"
   ]
  },
  {
   "cell_type": "code",
   "execution_count": 45,
   "id": "apart-gilbert",
   "metadata": {},
   "outputs": [
    {
     "name": "stdout",
     "output_type": "stream",
     "text": [
      "3680293220734633682 EconMatcher 41 45 policies are commonly associated with supply-side economics, referred to as trickle\n",
      "3680293220734633682 EconMatcher 49 53 economics, referred to as trickle-down economics or voodoo economics by political\n",
      "3680293220734633682 EconMatcher 54 56 trickle-down economics or voodoo economics by political opponents, and\n",
      "3680293220734633682 EconMatcher 61 65 by political opponents, and free-market economics by political advocates.\n",
      "\n",
      "\n",
      "3680293220734633682 EconMatcher 673 677 attracted a following from the supply-side economics movement, which formed in\n",
      "3680293220734633682 EconMatcher 2987 2991 became widely known as \"trickle-down economics\", due to the\n"
     ]
    }
   ],
   "source": [
    "for match_id,start,end in found_matches:\n",
    "    string_id = nlp.vocab.strings[match_id] #get string representation\n",
    "    span = doc3[start-5:end+5]\n",
    "    print(match_id,string_id,start,end,span.text)\n",
    "    "
   ]
  },
  {
   "cell_type": "code",
   "execution_count": null,
   "id": "surrounded-ridge",
   "metadata": {},
   "outputs": [],
   "source": []
  }
 ],
 "metadata": {
  "kernelspec": {
   "display_name": "Python 3",
   "language": "python",
   "name": "python3"
  },
  "language_info": {
   "codemirror_mode": {
    "name": "ipython",
    "version": 3
   },
   "file_extension": ".py",
   "mimetype": "text/x-python",
   "name": "python",
   "nbconvert_exporter": "python",
   "pygments_lexer": "ipython3",
   "version": "3.8.5"
  }
 },
 "nbformat": 4,
 "nbformat_minor": 5
}
