{
 "cells": [
  {
   "cell_type": "code",
   "execution_count": 4,
   "id": "indian-bruce",
   "metadata": {},
   "outputs": [],
   "source": [
    "import nltk\n"
   ]
  },
  {
   "cell_type": "code",
   "execution_count": 5,
   "id": "fifty-suite",
   "metadata": {},
   "outputs": [],
   "source": [
    "from nltk.stem.porter import PorterStemmer"
   ]
  },
  {
   "cell_type": "code",
   "execution_count": 6,
   "id": "qualified-benefit",
   "metadata": {},
   "outputs": [],
   "source": [
    "p_stemmer = PorterStemmer()"
   ]
  },
  {
   "cell_type": "code",
   "execution_count": 14,
   "id": "superior-liabilities",
   "metadata": {},
   "outputs": [],
   "source": [
    "words = ['run','runner','ran','runs','easily','fairly','fairness']"
   ]
  },
  {
   "cell_type": "code",
   "execution_count": 15,
   "id": "chinese-confusion",
   "metadata": {},
   "outputs": [
    {
     "name": "stdout",
     "output_type": "stream",
     "text": [
      "run----->run\n",
      "runner----->runner\n",
      "ran----->ran\n",
      "runs----->run\n",
      "easily----->easili\n",
      "fairly----->fairli\n",
      "fairness----->fair\n"
     ]
    }
   ],
   "source": [
    "for word in words:\n",
    "    print(word + '----->' + p_stemmer.stem(word))"
   ]
  },
  {
   "cell_type": "code",
   "execution_count": 16,
   "id": "swiss-stadium",
   "metadata": {},
   "outputs": [],
   "source": [
    "#, easdily and fairly, they are stemmed down to tending with i,\n",
    "# the stemmer is able to recognixe that runner, is  a noun, and not verb or adverb\n",
    "# so the easily and fairly (adverbs) are stemmed down into an usnusal group with, easili and fairli "
   ]
  },
  {
   "cell_type": "code",
   "execution_count": 17,
   "id": "behind-cambridge",
   "metadata": {},
   "outputs": [],
   "source": [
    "#there is more better version for stemming, it is snowball stemmer\n",
    "from nltk.stem.snowball import SnowballStemmer"
   ]
  },
  {
   "cell_type": "code",
   "execution_count": 18,
   "id": "adolescent-potato",
   "metadata": {},
   "outputs": [],
   "source": [
    "s_stemmer = SnowballStemmer(language='english')"
   ]
  },
  {
   "cell_type": "code",
   "execution_count": 19,
   "id": "improving-medication",
   "metadata": {},
   "outputs": [
    {
     "name": "stdout",
     "output_type": "stream",
     "text": [
      "run------>run\n",
      "runner------>runner\n",
      "ran------>ran\n",
      "runs------>run\n",
      "easily------>easili\n",
      "fairly------>fair\n",
      "fairness------>fair\n"
     ]
    }
   ],
   "source": [
    "for word in words:\n",
    "    print(word + '------>' +s_stemmer.stem(word) )"
   ]
  },
  {
   "cell_type": "code",
   "execution_count": 20,
   "id": "unavailable-blair",
   "metadata": {},
   "outputs": [],
   "source": [
    "words=['generous','generation','generously','generate']"
   ]
  },
  {
   "cell_type": "code",
   "execution_count": 21,
   "id": "bored-console",
   "metadata": {},
   "outputs": [
    {
     "name": "stdout",
     "output_type": "stream",
     "text": [
      "generous ----> generous\n",
      "generation ----> generat\n",
      "generously ----> generous\n",
      "generate ----> generat\n"
     ]
    }
   ],
   "source": [
    "for word in words:\n",
    "    print(word + ' ----> ' +s_stemmer.stem(word))"
   ]
  },
  {
   "cell_type": "code",
   "execution_count": 22,
   "id": "attached-cooperative",
   "metadata": {},
   "outputs": [],
   "source": [
    "#spacy didnt have stemming, since it uses lemmitisation as a more better way then stemming"
   ]
  },
  {
   "cell_type": "code",
   "execution_count": null,
   "id": "invisible-august",
   "metadata": {},
   "outputs": [],
   "source": []
  }
 ],
 "metadata": {
  "kernelspec": {
   "display_name": "Python 3",
   "language": "python",
   "name": "python3"
  },
  "language_info": {
   "codemirror_mode": {
    "name": "ipython",
    "version": 3
   },
   "file_extension": ".py",
   "mimetype": "text/x-python",
   "name": "python",
   "nbconvert_exporter": "python",
   "pygments_lexer": "ipython3",
   "version": "3.8.5"
  }
 },
 "nbformat": 4,
 "nbformat_minor": 5
}
