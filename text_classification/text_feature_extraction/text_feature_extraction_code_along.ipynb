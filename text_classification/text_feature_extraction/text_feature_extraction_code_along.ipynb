{
 "cells": [
  {
   "cell_type": "code",
   "execution_count": 1,
   "id": "tutorial-winning",
   "metadata": {},
   "outputs": [],
   "source": [
    "import numpy as np\n",
    "import pandas as pd"
   ]
  },
  {
   "cell_type": "code",
   "execution_count": 2,
   "id": "becoming-letter",
   "metadata": {},
   "outputs": [],
   "source": [
    "df = pd.read_csv(\"./smsspamcollection.tsv\",sep=\"\\t\")"
   ]
  },
  {
   "cell_type": "code",
   "execution_count": 4,
   "id": "extra-flashing",
   "metadata": {},
   "outputs": [
    {
     "data": {
      "text/html": [
       "<div>\n",
       "<style scoped>\n",
       "    .dataframe tbody tr th:only-of-type {\n",
       "        vertical-align: middle;\n",
       "    }\n",
       "\n",
       "    .dataframe tbody tr th {\n",
       "        vertical-align: top;\n",
       "    }\n",
       "\n",
       "    .dataframe thead th {\n",
       "        text-align: right;\n",
       "    }\n",
       "</style>\n",
       "<table border=\"1\" class=\"dataframe\">\n",
       "  <thead>\n",
       "    <tr style=\"text-align: right;\">\n",
       "      <th></th>\n",
       "      <th>label</th>\n",
       "      <th>message</th>\n",
       "      <th>length</th>\n",
       "      <th>punct</th>\n",
       "    </tr>\n",
       "  </thead>\n",
       "  <tbody>\n",
       "    <tr>\n",
       "      <th>0</th>\n",
       "      <td>ham</td>\n",
       "      <td>Go until jurong point, crazy.. Available only ...</td>\n",
       "      <td>111</td>\n",
       "      <td>9</td>\n",
       "    </tr>\n",
       "    <tr>\n",
       "      <th>1</th>\n",
       "      <td>ham</td>\n",
       "      <td>Ok lar... Joking wif u oni...</td>\n",
       "      <td>29</td>\n",
       "      <td>6</td>\n",
       "    </tr>\n",
       "    <tr>\n",
       "      <th>2</th>\n",
       "      <td>spam</td>\n",
       "      <td>Free entry in 2 a wkly comp to win FA Cup fina...</td>\n",
       "      <td>155</td>\n",
       "      <td>6</td>\n",
       "    </tr>\n",
       "    <tr>\n",
       "      <th>3</th>\n",
       "      <td>ham</td>\n",
       "      <td>U dun say so early hor... U c already then say...</td>\n",
       "      <td>49</td>\n",
       "      <td>6</td>\n",
       "    </tr>\n",
       "    <tr>\n",
       "      <th>4</th>\n",
       "      <td>ham</td>\n",
       "      <td>Nah I don't think he goes to usf, he lives aro...</td>\n",
       "      <td>61</td>\n",
       "      <td>2</td>\n",
       "    </tr>\n",
       "  </tbody>\n",
       "</table>\n",
       "</div>"
      ],
      "text/plain": [
       "  label                                            message  length  punct\n",
       "0   ham  Go until jurong point, crazy.. Available only ...     111      9\n",
       "1   ham                      Ok lar... Joking wif u oni...      29      6\n",
       "2  spam  Free entry in 2 a wkly comp to win FA Cup fina...     155      6\n",
       "3   ham  U dun say so early hor... U c already then say...      49      6\n",
       "4   ham  Nah I don't think he goes to usf, he lives aro...      61      2"
      ]
     },
     "execution_count": 4,
     "metadata": {},
     "output_type": "execute_result"
    }
   ],
   "source": [
    "df.head()#confirm that the data is loaded by using df.head()"
   ]
  },
  {
   "cell_type": "code",
   "execution_count": 5,
   "id": "organizational-valve",
   "metadata": {},
   "outputs": [],
   "source": [
    "#nonw, we should take the raw text information and vectorize it\n",
    "#but before it, we need to check, if they are null"
   ]
  },
  {
   "cell_type": "code",
   "execution_count": 6,
   "id": "scenic-exposure",
   "metadata": {},
   "outputs": [
    {
     "data": {
      "text/plain": [
       "label      0\n",
       "message    0\n",
       "length     0\n",
       "punct      0\n",
       "dtype: int64"
      ]
     },
     "execution_count": 6,
     "metadata": {},
     "output_type": "execute_result"
    }
   ],
   "source": [
    "df.isnull().sum()"
   ]
  },
  {
   "cell_type": "code",
   "execution_count": 9,
   "id": "intimate-folder",
   "metadata": {},
   "outputs": [
    {
     "data": {
      "text/plain": [
       "ham     4825\n",
       "spam     747\n",
       "Name: label, dtype: int64"
      ]
     },
     "execution_count": 9,
     "metadata": {},
     "output_type": "execute_result"
    }
   ],
   "source": [
    "df['label'].value_counts()\n"
   ]
  },
  {
   "cell_type": "code",
   "execution_count": 10,
   "id": "million-implementation",
   "metadata": {},
   "outputs": [],
   "source": [
    "#split data into training set and test set"
   ]
  },
  {
   "cell_type": "code",
   "execution_count": 11,
   "id": "spiritual-suicide",
   "metadata": {},
   "outputs": [],
   "source": [
    "from sklearn.model_selection import train_test_split"
   ]
  },
  {
   "cell_type": "code",
   "execution_count": 14,
   "id": "after-senior",
   "metadata": {},
   "outputs": [
    {
     "data": {
      "text/html": [
       "<div>\n",
       "<style scoped>\n",
       "    .dataframe tbody tr th:only-of-type {\n",
       "        vertical-align: middle;\n",
       "    }\n",
       "\n",
       "    .dataframe tbody tr th {\n",
       "        vertical-align: top;\n",
       "    }\n",
       "\n",
       "    .dataframe thead th {\n",
       "        text-align: right;\n",
       "    }\n",
       "</style>\n",
       "<table border=\"1\" class=\"dataframe\">\n",
       "  <thead>\n",
       "    <tr style=\"text-align: right;\">\n",
       "      <th></th>\n",
       "      <th>message</th>\n",
       "    </tr>\n",
       "  </thead>\n",
       "  <tbody>\n",
       "    <tr>\n",
       "      <th>0</th>\n",
       "      <td>Go until jurong point, crazy.. Available only ...</td>\n",
       "    </tr>\n",
       "    <tr>\n",
       "      <th>1</th>\n",
       "      <td>Ok lar... Joking wif u oni...</td>\n",
       "    </tr>\n",
       "    <tr>\n",
       "      <th>2</th>\n",
       "      <td>Free entry in 2 a wkly comp to win FA Cup fina...</td>\n",
       "    </tr>\n",
       "    <tr>\n",
       "      <th>3</th>\n",
       "      <td>U dun say so early hor... U c already then say...</td>\n",
       "    </tr>\n",
       "    <tr>\n",
       "      <th>4</th>\n",
       "      <td>Nah I don't think he goes to usf, he lives aro...</td>\n",
       "    </tr>\n",
       "    <tr>\n",
       "      <th>...</th>\n",
       "      <td>...</td>\n",
       "    </tr>\n",
       "    <tr>\n",
       "      <th>5567</th>\n",
       "      <td>This is the 2nd time we have tried 2 contact u...</td>\n",
       "    </tr>\n",
       "    <tr>\n",
       "      <th>5568</th>\n",
       "      <td>Will ü b going to esplanade fr home?</td>\n",
       "    </tr>\n",
       "    <tr>\n",
       "      <th>5569</th>\n",
       "      <td>Pity, * was in mood for that. So...any other s...</td>\n",
       "    </tr>\n",
       "    <tr>\n",
       "      <th>5570</th>\n",
       "      <td>The guy did some bitching but I acted like i'd...</td>\n",
       "    </tr>\n",
       "    <tr>\n",
       "      <th>5571</th>\n",
       "      <td>Rofl. Its true to its name</td>\n",
       "    </tr>\n",
       "  </tbody>\n",
       "</table>\n",
       "<p>5572 rows × 1 columns</p>\n",
       "</div>"
      ],
      "text/plain": [
       "                                                message\n",
       "0     Go until jurong point, crazy.. Available only ...\n",
       "1                         Ok lar... Joking wif u oni...\n",
       "2     Free entry in 2 a wkly comp to win FA Cup fina...\n",
       "3     U dun say so early hor... U c already then say...\n",
       "4     Nah I don't think he goes to usf, he lives aro...\n",
       "...                                                 ...\n",
       "5567  This is the 2nd time we have tried 2 contact u...\n",
       "5568               Will ü b going to esplanade fr home?\n",
       "5569  Pity, * was in mood for that. So...any other s...\n",
       "5570  The guy did some bitching but I acted like i'd...\n",
       "5571                         Rofl. Its true to its name\n",
       "\n",
       "[5572 rows x 1 columns]"
      ]
     },
     "execution_count": 14,
     "metadata": {},
     "output_type": "execute_result"
    }
   ],
   "source": [
    "X = df['message']\n",
    "X"
   ]
  },
  {
   "cell_type": "code",
   "execution_count": 13,
   "id": "disciplinary-alabama",
   "metadata": {},
   "outputs": [
    {
     "data": {
      "text/plain": [
       "0        ham\n",
       "1        ham\n",
       "2       spam\n",
       "3        ham\n",
       "4        ham\n",
       "        ... \n",
       "5567    spam\n",
       "5568     ham\n",
       "5569     ham\n",
       "5570     ham\n",
       "5571     ham\n",
       "Name: label, Length: 5572, dtype: object"
      ]
     },
     "execution_count": 13,
     "metadata": {},
     "output_type": "execute_result"
    }
   ],
   "source": [
    "y= df['label']\n",
    "y"
   ]
  },
  {
   "cell_type": "code",
   "execution_count": 15,
   "id": "classical-oasis",
   "metadata": {},
   "outputs": [],
   "source": [
    " X_train, X_test, y_train, y_test = train_test_split(X, y, test_size=0.33, random_state=42)"
   ]
  },
  {
   "cell_type": "code",
   "execution_count": 16,
   "id": "recovered-poultry",
   "metadata": {},
   "outputs": [],
   "source": [
    "#perform count vectorisation\n",
    "#text preprocessing, tokenizing, and ability to filter out stop words, are all included\n",
    "#in vectorisation\n",
    "#which builds a dictionary of features, and transforms the documents into feature vectors"
   ]
  },
  {
   "cell_type": "code",
   "execution_count": 17,
   "id": "republican-balance",
   "metadata": {},
   "outputs": [],
   "source": [
    "from sklearn.feature_extraction.text import CountVectorizer"
   ]
  },
  {
   "cell_type": "code",
   "execution_count": 18,
   "id": "velvet-nerve",
   "metadata": {},
   "outputs": [],
   "source": [
    "count_vect = CountVectorizer()"
   ]
  },
  {
   "cell_type": "code",
   "execution_count": 26,
   "id": "cellular-local",
   "metadata": {},
   "outputs": [],
   "source": [
    "X\n",
    "#X is still in raw text form\n",
    "#we want to pass X into countvectorizer and transform X\n",
    "\n",
    "#two ways\n",
    "#Fit vectorizer, to the data (build a voacbulary,count the number of words..)\n",
    "\n",
    "# count_vect.fit(X_train)\n",
    "#building a vocabulary, by counting the words\n",
    "\n",
    "# X_train_counts = count_vect.transform(X_train)\n",
    "#and then doing the transformation\n",
    "\n",
    "# X_train_counts\n",
    "\n",
    "#Transform the original Text Message --> VECTOR\n",
    "#since we do fit and transform always\n",
    "#there is a convenience method , that scikit learn has, it is , fit_transform\n",
    "#it does the two steps , in one step\n",
    "X_train_counts  = count_vect.fit_transform(X_train)"
   ]
  },
  {
   "cell_type": "code",
   "execution_count": 29,
   "id": "devoted-sponsorship",
   "metadata": {},
   "outputs": [
    {
     "data": {
      "text/plain": [
       "<3733x7082 sparse matrix of type '<class 'numpy.int64'>'\n",
       "\twith 49992 stored elements in Compressed Sparse Row format>"
      ]
     },
     "execution_count": 29,
     "metadata": {},
     "output_type": "execute_result"
    }
   ],
   "source": [
    "X_train_counts\n",
    "#here we, cannot read it , since it is  a huge sparse matrix\n",
    "\n",
    "#scikit-learn , will compress it, into a compressed sparsed row format\n"
   ]
  },
  {
   "cell_type": "code",
   "execution_count": 33,
   "id": "configured-canon",
   "metadata": {},
   "outputs": [
    {
     "data": {
      "text/plain": [
       "(3733,)"
      ]
     },
     "execution_count": 33,
     "metadata": {},
     "output_type": "execute_result"
    }
   ],
   "source": [
    "X_train.shape\n",
    "#there were 7082 unique words\n",
    "#a lot of those words, wont show up in every sentence, so they are 0 \n",
    "#because of this, scikit-learn and numpy is able to compress and save space"
   ]
  },
  {
   "cell_type": "code",
   "execution_count": 34,
   "id": "rising-shepherd",
   "metadata": {},
   "outputs": [
    {
     "data": {
      "text/plain": [
       "(3733, 7082)"
      ]
     },
     "execution_count": 34,
     "metadata": {},
     "output_type": "execute_result"
    }
   ],
   "source": [
    "X_train_counts.shape\n"
   ]
  },
  {
   "cell_type": "code",
   "execution_count": 36,
   "id": "understanding-supplement",
   "metadata": {},
   "outputs": [],
   "source": [
    "#next ,we want to transform the counts into frequencies  , with TFIDF\n",
    "# and we will combine the steps with the vectorizer, and \n",
    "#we will train the classifier and build the pipeline\n",
    "\n",
    "#so far, we read the data, we imported , it\n",
    "# we did train, test split\n",
    "# we did count vectorisation ,and fit transform on the training data\n",
    "#in next lec, we will combine these with term fequency and inverse document frequency analyisis"
   ]
  },
  {
   "cell_type": "code",
   "execution_count": 37,
   "id": "derived-pledge",
   "metadata": {},
   "outputs": [],
   "source": [
    "#as we discussed, we can use TFIDF, to get words which are more important\n",
    "#one way to do this, is simply passsing in , our count_vectorisatino, into a tfidf transofrmer\n"
   ]
  },
  {
   "cell_type": "code",
   "execution_count": 38,
   "id": "protective-aberdeen",
   "metadata": {},
   "outputs": [],
   "source": [
    "from sklearn.feature_extraction.text import TfidfTransformer"
   ]
  },
  {
   "cell_type": "code",
   "execution_count": 39,
   "id": "unlikely-arabic",
   "metadata": {},
   "outputs": [],
   "source": [
    "tfidf_transformer = TfidfTransformer()"
   ]
  },
  {
   "cell_type": "code",
   "execution_count": 40,
   "id": "traditional-travel",
   "metadata": {},
   "outputs": [],
   "source": [
    "X_train_tfidf = tfidf_transformer.fit_transform(X_train_counts)"
   ]
  },
  {
   "cell_type": "code",
   "execution_count": 41,
   "id": "powerful-shift",
   "metadata": {},
   "outputs": [
    {
     "data": {
      "text/plain": [
       "(3733, 7082)"
      ]
     },
     "execution_count": 41,
     "metadata": {},
     "output_type": "execute_result"
    }
   ],
   "source": [
    "X_train_tfidf.shape"
   ]
  },
  {
   "cell_type": "code",
   "execution_count": 42,
   "id": "middle-repeat",
   "metadata": {},
   "outputs": [],
   "source": [
    "#since it is more common to pass a count_vectoriser to the tfidftransformer\n",
    "#scikit learn, combines the two steps, as tfidf vectoriser"
   ]
  },
  {
   "cell_type": "code",
   "execution_count": 43,
   "id": "uniform-ethics",
   "metadata": {},
   "outputs": [],
   "source": [
    "from sklearn.feature_extraction.text import TfidfVectorizer"
   ]
  },
  {
   "cell_type": "code",
   "execution_count": 44,
   "id": "assumed-receiver",
   "metadata": {},
   "outputs": [],
   "source": [
    "vectorizer = TfidfVectorizer()"
   ]
  },
  {
   "cell_type": "code",
   "execution_count": 45,
   "id": "friendly-aircraft",
   "metadata": {},
   "outputs": [],
   "source": [
    "X_train_tfidf = vectorizer.fit_transform(X_train)"
   ]
  },
  {
   "cell_type": "code",
   "execution_count": 46,
   "id": "arctic-panama",
   "metadata": {},
   "outputs": [],
   "source": [
    "#next ,we are going to train classifier"
   ]
  },
  {
   "cell_type": "code",
   "execution_count": 47,
   "id": "seasonal-digest",
   "metadata": {},
   "outputs": [],
   "source": [
    "from sklearn.svm import LinearSVC\n"
   ]
  },
  {
   "cell_type": "code",
   "execution_count": 48,
   "id": "inappropriate-edition",
   "metadata": {},
   "outputs": [],
   "source": [
    "clf = LinearSVC()"
   ]
  },
  {
   "cell_type": "code",
   "execution_count": 50,
   "id": "premium-hormone",
   "metadata": {},
   "outputs": [
    {
     "data": {
      "text/plain": [
       "LinearSVC()"
      ]
     },
     "execution_count": 50,
     "metadata": {},
     "output_type": "execute_result"
    }
   ],
   "source": [
    "#fit it to vectorised training data and pass the y_train labels \n",
    "clf.fit(X_train_tfidf,y_train)"
   ]
  },
  {
   "cell_type": "code",
   "execution_count": 51,
   "id": "exact-mouth",
   "metadata": {},
   "outputs": [],
   "source": [
    "#now only our training set, has been vectorised into vocabulary\n",
    "#inorder to perform analysis on test data, we need to repeat it\n",
    "#it becomes tiresome\n",
    "#scikit learn provides, is a pipeline class, that behaves as a compound classifier\n",
    "#that performs vectorisation and classification\n"
   ]
  },
  {
   "cell_type": "code",
   "execution_count": 52,
   "id": "rotary-zambia",
   "metadata": {},
   "outputs": [],
   "source": [
    "#so instead of doing, fit_Transform and count_vectorisation, inorder to predict\n",
    "#we can convert into one pipeline step"
   ]
  },
  {
   "cell_type": "code",
   "execution_count": 53,
   "id": "amino-sector",
   "metadata": {},
   "outputs": [],
   "source": [
    "from sklearn.pipeline import Pipeline"
   ]
  },
  {
   "cell_type": "code",
   "execution_count": 54,
   "id": "double-aerospace",
   "metadata": {},
   "outputs": [],
   "source": [
    "#pipeline, object, will take list of tuples\n",
    "#each tuple , has the string name , that you have to decide\n",
    "text_clf = Pipeline([('tfidf',TfidfVectorizer()),('clf',LinearSVC())])"
   ]
  },
  {
   "cell_type": "code",
   "execution_count": 55,
   "id": "conventional-excerpt",
   "metadata": {},
   "outputs": [],
   "source": [
    "#this pipeline object, behaves as normal classifier of  scikit  learn of normal ML mode\n",
    "# and what is convenient of the pipeline object is, that we can do in all these steps in one step "
   ]
  },
  {
   "cell_type": "code",
   "execution_count": 56,
   "id": "handmade-arbitration",
   "metadata": {},
   "outputs": [],
   "source": [
    "#that means, we directly provide, the X_Train ,and have a vectoriser,  \n",
    "#and run classifier on it\n"
   ]
  },
  {
   "cell_type": "code",
   "execution_count": 57,
   "id": "opened-advocate",
   "metadata": {},
   "outputs": [],
   "source": [
    "# we can sometimes, have a long popeline, like ,removing stop words, lemmatisation, \n",
    "#tokenisation, text feature extraction etc"
   ]
  },
  {
   "cell_type": "code",
   "execution_count": 58,
   "id": "presidential-pierre",
   "metadata": {},
   "outputs": [],
   "source": [
    "#so the pipeline is convenient to do this, but rightnow we have a small pipeline, "
   ]
  },
  {
   "cell_type": "code",
   "execution_count": 59,
   "id": "burning-drive",
   "metadata": {},
   "outputs": [],
   "source": [
    "#so the way to use a pipeline,is like a normal ML model"
   ]
  },
  {
   "cell_type": "code",
   "execution_count": 60,
   "id": "presidential-telescope",
   "metadata": {},
   "outputs": [
    {
     "data": {
      "text/plain": [
       "Pipeline(steps=[('tfidf', TfidfVectorizer()), ('clf', LinearSVC())])"
      ]
     },
     "execution_count": 60,
     "metadata": {},
     "output_type": "execute_result"
    }
   ],
   "source": [
    "text_clf.fit(X_train,y_train)"
   ]
  },
  {
   "cell_type": "code",
   "execution_count": 65,
   "id": "planned-connectivity",
   "metadata": {},
   "outputs": [],
   "source": [
    "#we can test the classifier and display the results\n",
    "predictions = text_clf.predict(X_test)\n"
   ]
  },
  {
   "cell_type": "code",
   "execution_count": 68,
   "id": "baking-friend",
   "metadata": {},
   "outputs": [
    {
     "data": {
      "text/plain": [
       "3245    Squeeeeeze!! This is christmas hug.. If u lik ...\n",
       "944     And also I've sorta blown him off a couple tim...\n",
       "1044    Mmm thats better now i got a roast down me! i...\n",
       "2484        Mm have some kanji dont eat anything heavy ok\n",
       "812     So there's a ring that comes with the guys cos...\n",
       "                              ...                        \n",
       "4944    Check mail.i have mailed varma and kept copy t...\n",
       "3313    I know you are serving. I mean what are you do...\n",
       "3652         Want to send me a virtual hug?... I need one\n",
       "14                    I HAVE A DATE ON SUNDAY WITH WILL!!\n",
       "4758    hey, looks like I was wrong and one of the kap...\n",
       "Name: message, Length: 1839, dtype: object"
      ]
     },
     "execution_count": 68,
     "metadata": {},
     "output_type": "execute_result"
    }
   ],
   "source": [
    "X_test\n",
    "#raw text messages"
   ]
  },
  {
   "cell_type": "code",
   "execution_count": 66,
   "id": "ordered-inspection",
   "metadata": {},
   "outputs": [
    {
     "data": {
      "text/plain": [
       "array(['ham', 'ham', 'ham', ..., 'ham', 'ham', 'ham'], dtype=object)"
      ]
     },
     "execution_count": 66,
     "metadata": {},
     "output_type": "execute_result"
    }
   ],
   "source": [
    "predictions"
   ]
  },
  {
   "cell_type": "code",
   "execution_count": 69,
   "id": "northern-testimony",
   "metadata": {},
   "outputs": [],
   "source": [
    "from sklearn.metrics import confusion_matrix,classification_report"
   ]
  },
  {
   "cell_type": "code",
   "execution_count": 70,
   "id": "frank-domain",
   "metadata": {},
   "outputs": [
    {
     "name": "stdout",
     "output_type": "stream",
     "text": [
      "[[1586    7]\n",
      " [  12  234]]\n"
     ]
    }
   ],
   "source": [
    "print(confusion_matrix(y_test,predictions))"
   ]
  },
  {
   "cell_type": "code",
   "execution_count": 71,
   "id": "sweet-annex",
   "metadata": {},
   "outputs": [
    {
     "name": "stdout",
     "output_type": "stream",
     "text": [
      "              precision    recall  f1-score   support\n",
      "\n",
      "         ham       0.99      1.00      0.99      1593\n",
      "        spam       0.97      0.95      0.96       246\n",
      "\n",
      "    accuracy                           0.99      1839\n",
      "   macro avg       0.98      0.97      0.98      1839\n",
      "weighted avg       0.99      0.99      0.99      1839\n",
      "\n"
     ]
    }
   ],
   "source": [
    "print(classification_report(y_test,predictions))"
   ]
  },
  {
   "cell_type": "code",
   "execution_count": 72,
   "id": "lesbian-large",
   "metadata": {},
   "outputs": [],
   "source": [
    "from sklearn import metrics"
   ]
  },
  {
   "cell_type": "code",
   "execution_count": 73,
   "id": "awful-satin",
   "metadata": {},
   "outputs": [
    {
     "data": {
      "text/plain": [
       "0.989668297988037"
      ]
     },
     "execution_count": 73,
     "metadata": {},
     "output_type": "execute_result"
    }
   ],
   "source": [
    "metrics.accuracy_score(y_test,predictions)"
   ]
  },
  {
   "cell_type": "code",
   "execution_count": 74,
   "id": "addressed-prior",
   "metadata": {},
   "outputs": [],
   "source": [
    "#if we want to predict on a new message,  we use  the same predict mehtod"
   ]
  },
  {
   "cell_type": "code",
   "execution_count": 75,
   "id": "seasonal-growing",
   "metadata": {},
   "outputs": [
    {
     "data": {
      "text/plain": [
       "array(['ham'], dtype=object)"
      ]
     },
     "execution_count": 75,
     "metadata": {},
     "output_type": "execute_result"
    }
   ],
   "source": [
    "text_clf.predict([\"Hi how are you doing today?\"])"
   ]
  },
  {
   "cell_type": "code",
   "execution_count": 77,
   "id": "jewish-monkey",
   "metadata": {},
   "outputs": [
    {
     "data": {
      "text/plain": [
       "array(['spam'], dtype=object)"
      ]
     },
     "execution_count": 77,
     "metadata": {},
     "output_type": "execute_result"
    }
   ],
   "source": [
    "text_clf.predict([\"Congratulations! You've been selected as a winner. TEXT won to 44255 congratulations free entry to contest\"])"
   ]
  },
  {
   "cell_type": "code",
   "execution_count": 83,
   "id": "important-discrimination",
   "metadata": {},
   "outputs": [
    {
     "data": {
      "text/plain": [
       "array(['ham'], dtype=object)"
      ]
     },
     "execution_count": 83,
     "metadata": {},
     "output_type": "execute_result"
    }
   ],
   "source": [
    "text_clf.predict([\" hi  to contest\"])"
   ]
  },
  {
   "cell_type": "code",
   "execution_count": null,
   "id": "sticky-microwave",
   "metadata": {},
   "outputs": [],
   "source": []
  }
 ],
 "metadata": {
  "kernelspec": {
   "display_name": "Python 3",
   "language": "python",
   "name": "python3"
  },
  "language_info": {
   "codemirror_mode": {
    "name": "ipython",
    "version": 3
   },
   "file_extension": ".py",
   "mimetype": "text/x-python",
   "name": "python",
   "nbconvert_exporter": "python",
   "pygments_lexer": "ipython3",
   "version": "3.8.5"
  }
 },
 "nbformat": 4,
 "nbformat_minor": 5
}
