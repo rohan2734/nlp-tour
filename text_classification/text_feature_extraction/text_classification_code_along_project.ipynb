{
 "cells": [
  {
   "cell_type": "code",
   "execution_count": 2,
   "id": "generous-intelligence",
   "metadata": {},
   "outputs": [],
   "source": [
    "import numpy as np\n",
    "import pandas as pd"
   ]
  },
  {
   "cell_type": "code",
   "execution_count": 3,
   "id": "incoming-midwest",
   "metadata": {},
   "outputs": [],
   "source": [
    "df = pd.read_csv(\"moviereviews.tsv\",sep='\\t')"
   ]
  },
  {
   "cell_type": "code",
   "execution_count": 4,
   "id": "breathing-salon",
   "metadata": {},
   "outputs": [
    {
     "data": {
      "text/html": [
       "<div>\n",
       "<style scoped>\n",
       "    .dataframe tbody tr th:only-of-type {\n",
       "        vertical-align: middle;\n",
       "    }\n",
       "\n",
       "    .dataframe tbody tr th {\n",
       "        vertical-align: top;\n",
       "    }\n",
       "\n",
       "    .dataframe thead th {\n",
       "        text-align: right;\n",
       "    }\n",
       "</style>\n",
       "<table border=\"1\" class=\"dataframe\">\n",
       "  <thead>\n",
       "    <tr style=\"text-align: right;\">\n",
       "      <th></th>\n",
       "      <th>label</th>\n",
       "      <th>review</th>\n",
       "    </tr>\n",
       "  </thead>\n",
       "  <tbody>\n",
       "    <tr>\n",
       "      <th>0</th>\n",
       "      <td>neg</td>\n",
       "      <td>how do films like mouse hunt get into theatres...</td>\n",
       "    </tr>\n",
       "    <tr>\n",
       "      <th>1</th>\n",
       "      <td>neg</td>\n",
       "      <td>some talented actresses are blessed with a dem...</td>\n",
       "    </tr>\n",
       "    <tr>\n",
       "      <th>2</th>\n",
       "      <td>pos</td>\n",
       "      <td>this has been an extraordinary year for austra...</td>\n",
       "    </tr>\n",
       "    <tr>\n",
       "      <th>3</th>\n",
       "      <td>pos</td>\n",
       "      <td>according to hollywood movies made in last few...</td>\n",
       "    </tr>\n",
       "    <tr>\n",
       "      <th>4</th>\n",
       "      <td>neg</td>\n",
       "      <td>my first press screening of 1998 and already i...</td>\n",
       "    </tr>\n",
       "  </tbody>\n",
       "</table>\n",
       "</div>"
      ],
      "text/plain": [
       "  label                                             review\n",
       "0   neg  how do films like mouse hunt get into theatres...\n",
       "1   neg  some talented actresses are blessed with a dem...\n",
       "2   pos  this has been an extraordinary year for austra...\n",
       "3   pos  according to hollywood movies made in last few...\n",
       "4   neg  my first press screening of 1998 and already i..."
      ]
     },
     "execution_count": 4,
     "metadata": {},
     "output_type": "execute_result"
    }
   ],
   "source": [
    "df.head()"
   ]
  },
  {
   "cell_type": "code",
   "execution_count": 5,
   "id": "norwegian-elephant",
   "metadata": {},
   "outputs": [
    {
     "data": {
      "text/plain": [
       "2000"
      ]
     },
     "execution_count": 5,
     "metadata": {},
     "output_type": "execute_result"
    }
   ],
   "source": [
    "len(df)"
   ]
  },
  {
   "cell_type": "code",
   "execution_count": 6,
   "id": "acquired-preliminary",
   "metadata": {},
   "outputs": [
    {
     "data": {
      "text/plain": [
       "0       how do films like mouse hunt get into theatres...\n",
       "1       some talented actresses are blessed with a dem...\n",
       "2       this has been an extraordinary year for austra...\n",
       "3       according to hollywood movies made in last few...\n",
       "4       my first press screening of 1998 and already i...\n",
       "                              ...                        \n",
       "1995    i like movies with albert brooks , and i reall...\n",
       "1996    it might surprise some to know that joel and e...\n",
       "1997    the verdict : spine-chilling drama from horror...\n",
       "1998    i want to correct what i wrote in a former ret...\n",
       "1999    a couple of months ago , when i first download...\n",
       "Name: review, Length: 2000, dtype: object"
      ]
     },
     "execution_count": 6,
     "metadata": {},
     "output_type": "execute_result"
    }
   ],
   "source": [
    "df[\"review\"]"
   ]
  },
  {
   "cell_type": "code",
   "execution_count": 9,
   "id": "coupled-cache",
   "metadata": {},
   "outputs": [],
   "source": [
    "# df[\"review\"][0]\n",
    "# print(df[\"review\"][0])"
   ]
  },
  {
   "cell_type": "code",
   "execution_count": 10,
   "id": "nominated-senior",
   "metadata": {},
   "outputs": [],
   "source": [
    "#first we will check for the missing values"
   ]
  },
  {
   "cell_type": "code",
   "execution_count": 11,
   "id": "radio-value",
   "metadata": {},
   "outputs": [
    {
     "data": {
      "text/plain": [
       "label      0\n",
       "review    35\n",
       "dtype: int64"
      ]
     },
     "execution_count": 11,
     "metadata": {},
     "output_type": "execute_result"
    }
   ],
   "source": [
    "df.isnull().sum()"
   ]
  },
  {
   "cell_type": "code",
   "execution_count": 12,
   "id": "saved-eagle",
   "metadata": {},
   "outputs": [],
   "source": [
    "#here we are not missing labels, but we are missing reviews\n",
    "# we can remove this NaN , not a number, or none reviews by\n",
    "df.dropna(inplace=True)"
   ]
  },
  {
   "cell_type": "code",
   "execution_count": 15,
   "id": "employed-basin",
   "metadata": {},
   "outputs": [
    {
     "data": {
      "text/plain": [
       "label     0\n",
       "review    0\n",
       "dtype: int64"
      ]
     },
     "execution_count": 15,
     "metadata": {},
     "output_type": "execute_result"
    }
   ],
   "source": [
    "df.isnull().sum()\n",
    "#now we are not having any missing values"
   ]
  },
  {
   "cell_type": "code",
   "execution_count": 16,
   "id": "informational-chinese",
   "metadata": {},
   "outputs": [],
   "source": [
    "#however, whenever the text data is formated, databases, instead of putting in Nan, \n",
    "#they actually put the empty string\n",
    "# so we also need to remove the empty string values"
   ]
  },
  {
   "cell_type": "code",
   "execution_count": 17,
   "id": "italic-albuquerque",
   "metadata": {},
   "outputs": [],
   "source": [
    "myString = 'hello'\n",
    "empty = ' '"
   ]
  },
  {
   "cell_type": "code",
   "execution_count": 18,
   "id": "extra-wealth",
   "metadata": {
    "scrolled": true
   },
   "outputs": [
    {
     "data": {
      "text/plain": [
       "False"
      ]
     },
     "execution_count": 18,
     "metadata": {},
     "output_type": "execute_result"
    }
   ],
   "source": [
    "myString.isspace()"
   ]
  },
  {
   "cell_type": "code",
   "execution_count": 20,
   "id": "commercial-observer",
   "metadata": {},
   "outputs": [
    {
     "data": {
      "text/plain": [
       "True"
      ]
     },
     "execution_count": 20,
     "metadata": {},
     "output_type": "execute_result"
    }
   ],
   "source": [
    "empty.isspace() #this is the way , to detect an empty whitespace"
   ]
  },
  {
   "cell_type": "code",
   "execution_count": 21,
   "id": "derived-centre",
   "metadata": {},
   "outputs": [],
   "source": [
    "#simple way  , to do this\n",
    "blanks = []\n",
    "\n",
    "for i,lb,rv in df.itertuples():\n",
    "    #it returns, tuple index ,location, label value, and review value\n",
    "    if rv.isspace():\n",
    "        blanks.append(i)#we are collecting the index posiitons, of the blank statements"
   ]
  },
  {
   "cell_type": "code",
   "execution_count": 24,
   "id": "apparent-carry",
   "metadata": {},
   "outputs": [
    {
     "data": {
      "text/plain": [
       "[57,\n",
       " 71,\n",
       " 147,\n",
       " 151,\n",
       " 283,\n",
       " 307,\n",
       " 313,\n",
       " 323,\n",
       " 343,\n",
       " 351,\n",
       " 427,\n",
       " 501,\n",
       " 633,\n",
       " 675,\n",
       " 815,\n",
       " 851,\n",
       " 977,\n",
       " 1079,\n",
       " 1299,\n",
       " 1455,\n",
       " 1493,\n",
       " 1525,\n",
       " 1531,\n",
       " 1763,\n",
       " 1851,\n",
       " 1905,\n",
       " 1993]"
      ]
     },
     "execution_count": 24,
     "metadata": {},
     "output_type": "execute_result"
    }
   ],
   "source": [
    "blanks"
   ]
  },
  {
   "cell_type": "code",
   "execution_count": 22,
   "id": "vital-module",
   "metadata": {},
   "outputs": [],
   "source": [
    "df.drop(blanks,inplace=True)"
   ]
  },
  {
   "cell_type": "code",
   "execution_count": 23,
   "id": "looking-shannon",
   "metadata": {},
   "outputs": [
    {
     "data": {
      "text/plain": [
       "1938"
      ]
     },
     "execution_count": 23,
     "metadata": {},
     "output_type": "execute_result"
    }
   ],
   "source": [
    "len(df)"
   ]
  },
  {
   "cell_type": "code",
   "execution_count": 25,
   "id": "invalid-demonstration",
   "metadata": {},
   "outputs": [],
   "source": [
    "from sklearn.model_selection import train_test_split"
   ]
  },
  {
   "cell_type": "code",
   "execution_count": 26,
   "id": "operational-extreme",
   "metadata": {},
   "outputs": [],
   "source": [
    "X=df['review']"
   ]
  },
  {
   "cell_type": "code",
   "execution_count": 27,
   "id": "included-florist",
   "metadata": {},
   "outputs": [],
   "source": [
    "y=df['label']"
   ]
  },
  {
   "cell_type": "code",
   "execution_count": 28,
   "id": "essential-luther",
   "metadata": {},
   "outputs": [],
   "source": [
    "X_train, X_test, y_train, y_test = train_test_split( X, y, test_size=0.33, random_state=42)"
   ]
  },
  {
   "cell_type": "code",
   "execution_count": 30,
   "id": "unavailable-ozone",
   "metadata": {},
   "outputs": [],
   "source": [
    "#now we need to make a pipeline\n",
    "from sklearn.pipeline import Pipeline\n",
    "from sklearn.feature_extraction.text import TfidfVectorizer\n",
    "from sklearn.svm import LinearSVC"
   ]
  },
  {
   "cell_type": "code",
   "execution_count": 31,
   "id": "bottom-effectiveness",
   "metadata": {},
   "outputs": [],
   "source": [
    "text_clf = Pipeline([ ('tfidf',TfidfVectorizer()) , ('clf',LinearSVC())])"
   ]
  },
  {
   "cell_type": "code",
   "execution_count": 32,
   "id": "cognitive-privacy",
   "metadata": {},
   "outputs": [
    {
     "data": {
      "text/plain": [
       "Pipeline(steps=[('tfidf', TfidfVectorizer()), ('clf', LinearSVC())])"
      ]
     },
     "execution_count": 32,
     "metadata": {},
     "output_type": "execute_result"
    }
   ],
   "source": [
    "text_clf.fit(X_train,y_train)"
   ]
  },
  {
   "cell_type": "code",
   "execution_count": 33,
   "id": "reverse-imagination",
   "metadata": {},
   "outputs": [],
   "source": [
    "#now we need to make predictions"
   ]
  },
  {
   "cell_type": "code",
   "execution_count": 34,
   "id": "recent-syntax",
   "metadata": {},
   "outputs": [],
   "source": [
    "predictions = text_clf.predict(X_test)"
   ]
  },
  {
   "cell_type": "code",
   "execution_count": 35,
   "id": "compliant-lambda",
   "metadata": {},
   "outputs": [],
   "source": [
    "from sklearn.metrics import confusion_matrix,classification_report,accuracy_score"
   ]
  },
  {
   "cell_type": "code",
   "execution_count": 36,
   "id": "buried-catering",
   "metadata": {},
   "outputs": [
    {
     "name": "stdout",
     "output_type": "stream",
     "text": [
      "[[259  49]\n",
      " [ 49 283]]\n"
     ]
    }
   ],
   "source": [
    "print(confusion_matrix(y_test,predictions))"
   ]
  },
  {
   "cell_type": "code",
   "execution_count": 37,
   "id": "lightweight-contents",
   "metadata": {},
   "outputs": [
    {
     "name": "stdout",
     "output_type": "stream",
     "text": [
      "              precision    recall  f1-score   support\n",
      "\n",
      "         neg       0.84      0.84      0.84       308\n",
      "         pos       0.85      0.85      0.85       332\n",
      "\n",
      "    accuracy                           0.85       640\n",
      "   macro avg       0.85      0.85      0.85       640\n",
      "weighted avg       0.85      0.85      0.85       640\n",
      "\n"
     ]
    }
   ],
   "source": [
    "print(classification_report(y_test,predictions))"
   ]
  },
  {
   "cell_type": "code",
   "execution_count": 38,
   "id": "loving-nightlife",
   "metadata": {},
   "outputs": [
    {
     "name": "stdout",
     "output_type": "stream",
     "text": [
      "0.846875\n"
     ]
    }
   ],
   "source": [
    "print(accuracy_score(y_test,predictions))"
   ]
  },
  {
   "cell_type": "code",
   "execution_count": 40,
   "id": "minor-nursing",
   "metadata": {},
   "outputs": [],
   "source": [
    "#we are getting 0.85 for precision,recall and accuracy which\n",
    "#is pretty amazing, \n",
    "#given the fact that, we are doing in few lines of code\n",
    "#and more importantly , we are able to do this with the raw text of review\n",
    "\n",
    "# so just by reading the raw text, we are able to understand  that \n",
    "#the review is positive or negative\n",
    "#so now we can setup our own movie review site, that goes through the internet,\n",
    "#scrapes through the reviews, and run through the classifier,\n",
    "#and tell if the review is positive or negative\n"
   ]
  },
  {
   "cell_type": "code",
   "execution_count": null,
   "id": "joint-printer",
   "metadata": {},
   "outputs": [],
   "source": []
  }
 ],
 "metadata": {
  "kernelspec": {
   "display_name": "Python 3",
   "language": "python",
   "name": "python3"
  },
  "language_info": {
   "codemirror_mode": {
    "name": "ipython",
    "version": 3
   },
   "file_extension": ".py",
   "mimetype": "text/x-python",
   "name": "python",
   "nbconvert_exporter": "python",
   "pygments_lexer": "ipython3",
   "version": "3.8.5"
  }
 },
 "nbformat": 4,
 "nbformat_minor": 5
}
