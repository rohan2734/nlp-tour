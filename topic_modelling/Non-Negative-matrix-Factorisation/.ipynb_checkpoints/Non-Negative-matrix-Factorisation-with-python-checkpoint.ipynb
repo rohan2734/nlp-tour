{
 "cells": [
  {
   "cell_type": "code",
   "execution_count": 2,
   "id": "turkish-instruction",
   "metadata": {},
   "outputs": [],
   "source": [
    "#to swap LDA for NMF "
   ]
  },
  {
   "cell_type": "code",
   "execution_count": 3,
   "id": "average-courage",
   "metadata": {},
   "outputs": [],
   "source": [
    "import pandas as pd\n",
    "npr=pd.read_csv(\"npr.csv\")"
   ]
  },
  {
   "cell_type": "code",
   "execution_count": 4,
   "id": "herbal-appendix",
   "metadata": {},
   "outputs": [],
   "source": [
    "#we extract features and display the topics"
   ]
  },
  {
   "cell_type": "code",
   "execution_count": 5,
   "id": "accessory-stocks",
   "metadata": {},
   "outputs": [],
   "source": [
    "#2 main topics\n",
    "#1.Preprocessing feature extraction\n",
    "\n",
    "#LDA is dependent  on per word count probabiblites, we can only use count vectoriser\n",
    "\n",
    "#but since Non negative Matrix factorisation, works with coefficients of values\n",
    "#we can preprocess the text with TFIDF vectorisation"
   ]
  },
  {
   "cell_type": "code",
   "execution_count": 6,
   "id": "quick-minute",
   "metadata": {},
   "outputs": [],
   "source": [
    "from sklearn.feature_extraction.text import TfidfVectorizer"
   ]
  },
  {
   "cell_type": "code",
   "execution_count": 7,
   "id": "thirty-dallas",
   "metadata": {},
   "outputs": [],
   "source": [
    "tfidf=TfidfVectorizer(max_df=0.95, min_df=2,stop_words='english')\n",
    "#ask for words, with not more than 95 % #must show up atleast 10% or 2 as number of words\n",
    "#tifid, will remove the stop words for us"
   ]
  },
  {
   "cell_type": "code",
   "execution_count": 9,
   "id": "million-radical",
   "metadata": {},
   "outputs": [
    {
     "data": {
      "text/html": [
       "<div>\n",
       "<style scoped>\n",
       "    .dataframe tbody tr th:only-of-type {\n",
       "        vertical-align: middle;\n",
       "    }\n",
       "\n",
       "    .dataframe tbody tr th {\n",
       "        vertical-align: top;\n",
       "    }\n",
       "\n",
       "    .dataframe thead th {\n",
       "        text-align: right;\n",
       "    }\n",
       "</style>\n",
       "<table border=\"1\" class=\"dataframe\">\n",
       "  <thead>\n",
       "    <tr style=\"text-align: right;\">\n",
       "      <th></th>\n",
       "      <th>Article</th>\n",
       "    </tr>\n",
       "  </thead>\n",
       "  <tbody>\n",
       "    <tr>\n",
       "      <th>0</th>\n",
       "      <td>In the Washington of 2016, even when the polic...</td>\n",
       "    </tr>\n",
       "    <tr>\n",
       "      <th>1</th>\n",
       "      <td>Donald Trump has used Twitter  —   his prefe...</td>\n",
       "    </tr>\n",
       "    <tr>\n",
       "      <th>2</th>\n",
       "      <td>Donald Trump is unabashedly praising Russian...</td>\n",
       "    </tr>\n",
       "    <tr>\n",
       "      <th>3</th>\n",
       "      <td>Updated at 2:50 p. m. ET, Russian President Vl...</td>\n",
       "    </tr>\n",
       "    <tr>\n",
       "      <th>4</th>\n",
       "      <td>From photography, illustration and video, to d...</td>\n",
       "    </tr>\n",
       "    <tr>\n",
       "      <th>...</th>\n",
       "      <td>...</td>\n",
       "    </tr>\n",
       "    <tr>\n",
       "      <th>11987</th>\n",
       "      <td>The number of law enforcement officers shot an...</td>\n",
       "    </tr>\n",
       "    <tr>\n",
       "      <th>11988</th>\n",
       "      <td>Trump is busy these days with victory tours,...</td>\n",
       "    </tr>\n",
       "    <tr>\n",
       "      <th>11989</th>\n",
       "      <td>It’s always interesting for the Goats and Soda...</td>\n",
       "    </tr>\n",
       "    <tr>\n",
       "      <th>11990</th>\n",
       "      <td>The election of Donald Trump was a surprise to...</td>\n",
       "    </tr>\n",
       "    <tr>\n",
       "      <th>11991</th>\n",
       "      <td>Voters in the English city of Sunderland did s...</td>\n",
       "    </tr>\n",
       "  </tbody>\n",
       "</table>\n",
       "<p>11992 rows × 1 columns</p>\n",
       "</div>"
      ],
      "text/plain": [
       "                                                 Article\n",
       "0      In the Washington of 2016, even when the polic...\n",
       "1        Donald Trump has used Twitter  —   his prefe...\n",
       "2        Donald Trump is unabashedly praising Russian...\n",
       "3      Updated at 2:50 p. m. ET, Russian President Vl...\n",
       "4      From photography, illustration and video, to d...\n",
       "...                                                  ...\n",
       "11987  The number of law enforcement officers shot an...\n",
       "11988    Trump is busy these days with victory tours,...\n",
       "11989  It’s always interesting for the Goats and Soda...\n",
       "11990  The election of Donald Trump was a surprise to...\n",
       "11991  Voters in the English city of Sunderland did s...\n",
       "\n",
       "[11992 rows x 1 columns]"
      ]
     },
     "execution_count": 9,
     "metadata": {},
     "output_type": "execute_result"
    }
   ],
   "source": [
    "npr['Article']\n",
    "npr"
   ]
  },
  {
   "cell_type": "code",
   "execution_count": 10,
   "id": "renewable-calendar",
   "metadata": {},
   "outputs": [],
   "source": [
    "dtm= tfidf.fit_transform(npr['Article'])"
   ]
  },
  {
   "cell_type": "code",
   "execution_count": 21,
   "id": "electrical-connecticut",
   "metadata": {},
   "outputs": [
    {
     "name": "stdout",
     "output_type": "stream",
     "text": [
      "  (0, 162)\t0.024207779726177357\n",
      "  (0, 436)\t0.057426739142936806\n",
      "  (0, 604)\t0.02813089107375169\n",
      "  (0, 650)\t0.02653652777634086\n",
      "  (0, 1288)\t0.022444232597226593\n",
      "  (0, 1434)\t0.028763633914840988\n",
      "  (0, 1489)\t0.023797160985101373\n",
      "  (0, 1608)\t0.03226897967994957\n",
      "  (0, 1610)\t0.020693641331932494\n",
      "  (0, 1613)\t0.07253465437685631\n",
      "  (0, 1632)\t0.025308912294465642\n",
      "  (0, 1674)\t0.01910359684823228\n",
      "  (0, 1762)\t0.017698767416640195\n",
      "  (0, 1884)\t0.025404296400493534\n",
      "  (0, 1932)\t0.027002284256125594\n",
      "  (0, 1993)\t0.044568871723068636\n",
      "  (0, 2045)\t0.07533311505887272\n",
      "  (0, 2060)\t0.0383433531113439\n",
      "  (0, 2084)\t0.015039386128760875\n",
      "  (0, 2093)\t0.04883763812854993\n",
      "  (0, 2347)\t0.03491292226818417\n",
      "  (0, 2437)\t0.05672110592908613\n",
      "  (0, 2491)\t0.04202580292018094\n",
      "  (0, 2525)\t0.028380087248686597\n",
      "  (0, 2689)\t0.016700219215567812\n",
      "  :\t:\n",
      "  (11991, 52783)\t0.15232527696882306\n",
      "  (11991, 52786)\t0.032524386440987\n",
      "  (11991, 52788)\t0.03858014866091516\n",
      "  (11991, 52977)\t0.05145632144946742\n",
      "  (11991, 53014)\t0.009862718553798772\n",
      "  (11991, 53015)\t0.013306666081953258\n",
      "  (11991, 53064)\t0.021036892826114015\n",
      "  (11991, 53142)\t0.019979584774001816\n",
      "  (11991, 53259)\t0.019990218230050462\n",
      "  (11991, 53325)\t0.014329342052327554\n",
      "  (11991, 53567)\t0.03849472475866954\n",
      "  (11991, 53582)\t0.04623269406439066\n",
      "  (11991, 53746)\t0.018634109473258796\n",
      "  (11991, 53797)\t0.02423343972721564\n",
      "  (11991, 53989)\t0.01266666680186709\n",
      "  (11991, 53992)\t0.02035556566950199\n",
      "  (11991, 54076)\t0.014288761216320335\n",
      "  (11991, 54078)\t0.016675093548385745\n",
      "  (11991, 54082)\t0.023937590422361998\n",
      "  (11991, 54092)\t0.030482471600225502\n",
      "  (11991, 54113)\t0.02806928944219542\n",
      "  (11991, 54120)\t0.018563167128126525\n",
      "  (11991, 54145)\t0.02397466469645022\n",
      "  (11991, 54403)\t0.008530202072840548\n",
      "  (11991, 54412)\t0.007454565657515723\n"
     ]
    }
   ],
   "source": [
    "dtm\n",
    "#sparse matrix, \n"
   ]
  },
  {
   "cell_type": "code",
   "execution_count": 13,
   "id": "green-warning",
   "metadata": {},
   "outputs": [],
   "source": [
    "from sklearn.decomposition import NMF"
   ]
  },
  {
   "cell_type": "code",
   "execution_count": 22,
   "id": "tight-arctic",
   "metadata": {},
   "outputs": [
    {
     "data": {
      "text/plain": [
       "NMF(n_components=7, random_state=42)"
      ]
     },
     "execution_count": 22,
     "metadata": {},
     "output_type": "execute_result"
    }
   ],
   "source": [
    "nmf_model = NMF(n_components=7,random_state=42)\n",
    "nmf_model"
   ]
  },
  {
   "cell_type": "code",
   "execution_count": 23,
   "id": "bridal-peninsula",
   "metadata": {},
   "outputs": [
    {
     "data": {
      "text/plain": [
       "array([[0.00000000e+00, 2.49950821e-01, 0.00000000e+00, ...,\n",
       "        1.70313822e-03, 2.37544362e-04, 0.00000000e+00],\n",
       "       [0.00000000e+00, 0.00000000e+00, 0.00000000e+00, ...,\n",
       "        0.00000000e+00, 0.00000000e+00, 0.00000000e+00],\n",
       "       [0.00000000e+00, 8.22048918e-02, 0.00000000e+00, ...,\n",
       "        0.00000000e+00, 0.00000000e+00, 0.00000000e+00],\n",
       "       ...,\n",
       "       [0.00000000e+00, 3.12379960e-02, 0.00000000e+00, ...,\n",
       "        0.00000000e+00, 0.00000000e+00, 0.00000000e+00],\n",
       "       [5.89723338e-03, 0.00000000e+00, 1.50186440e-03, ...,\n",
       "        7.06428924e-04, 5.85500542e-04, 6.89536542e-04],\n",
       "       [4.01763234e-03, 5.31643833e-02, 0.00000000e+00, ...,\n",
       "        0.00000000e+00, 0.00000000e+00, 0.00000000e+00]])"
      ]
     },
     "execution_count": 23,
     "metadata": {},
     "output_type": "execute_result"
    }
   ],
   "source": [
    "nmf_model.fit(dtm)\n",
    "nmf_model.components_"
   ]
  },
  {
   "cell_type": "code",
   "execution_count": 16,
   "id": "monthly-angle",
   "metadata": {},
   "outputs": [],
   "source": [
    "#nmf performs faster than LDA , \n",
    "#because the way the numpy works"
   ]
  },
  {
   "cell_type": "code",
   "execution_count": 18,
   "id": "eligible-benchmark",
   "metadata": {},
   "outputs": [
    {
     "data": {
      "text/plain": [
       "'albala'"
      ]
     },
     "execution_count": 18,
     "metadata": {},
     "output_type": "execute_result"
    }
   ],
   "source": [
    "tfidf.get_feature_names()[2300]"
   ]
  },
  {
   "cell_type": "code",
   "execution_count": 20,
   "id": "threaded-morocco",
   "metadata": {},
   "outputs": [
    {
     "name": "stdout",
     "output_type": "stream",
     "text": [
      "THE TOP 15 WORDS FOR TOPIC #0\n",
      "['new', 'research', 'like', 'patients', 'health', 'disease', 'percent', 'women', 'virus', 'study', 'water', 'food', 'people', 'zika', 'says']\n",
      "\n",
      "\n",
      "THE TOP 15 WORDS FOR TOPIC #1\n",
      "['gop', 'pence', 'presidential', 'russia', 'administration', 'election', 'republican', 'obama', 'white', 'house', 'donald', 'campaign', 'said', 'president', 'trump']\n",
      "\n",
      "\n",
      "THE TOP 15 WORDS FOR TOPIC #2\n",
      "['senate', 'house', 'people', 'act', 'law', 'tax', 'plan', 'republicans', 'affordable', 'obamacare', 'coverage', 'medicaid', 'insurance', 'care', 'health']\n",
      "\n",
      "\n",
      "THE TOP 15 WORDS FOR TOPIC #3\n",
      "['officers', 'syria', 'security', 'department', 'law', 'isis', 'russia', 'government', 'state', 'attack', 'president', 'reports', 'court', 'said', 'police']\n",
      "\n",
      "\n",
      "THE TOP 15 WORDS FOR TOPIC #4\n",
      "['primary', 'cruz', 'election', 'democrats', 'percent', 'party', 'delegates', 'vote', 'state', 'democratic', 'hillary', 'campaign', 'voters', 'sanders', 'clinton']\n",
      "\n",
      "\n",
      "THE TOP 15 WORDS FOR TOPIC #5\n",
      "['love', 've', 'don', 'album', 'way', 'time', 'song', 'life', 'really', 'know', 'people', 'think', 'just', 'music', 'like']\n",
      "\n",
      "\n",
      "THE TOP 15 WORDS FOR TOPIC #6\n",
      "['teacher', 'state', 'high', 'says', 'parents', 'devos', 'children', 'college', 'kids', 'teachers', 'student', 'education', 'schools', 'school', 'students']\n",
      "\n",
      "\n"
     ]
    }
   ],
   "source": [
    "#we will get top 15 words per a topic\n",
    "for index, topic in enumerate(nmf_model.components_):\n",
    "    print(f\"THE TOP 15 WORDS FOR TOPIC #{index}\")\n",
    "    print([tfidf.get_feature_names()[i] for i in topic.argsort()[-15:]])\n",
    "    print(\"\\n\")"
   ]
  },
  {
   "cell_type": "code",
   "execution_count": 24,
   "id": "worldwide-blood",
   "metadata": {},
   "outputs": [],
   "source": [
    "topic_results = nmf_model.transform(dtm)"
   ]
  },
  {
   "cell_type": "code",
   "execution_count": 27,
   "id": "different-roman",
   "metadata": {},
   "outputs": [
    {
     "data": {
      "text/plain": [
       "(11992, 54777)"
      ]
     },
     "execution_count": 27,
     "metadata": {},
     "output_type": "execute_result"
    }
   ],
   "source": [
    "topic_results.shape\n",
    "#it is the coefficient value for the top topics\n",
    "dtm.shape"
   ]
  },
  {
   "cell_type": "code",
   "execution_count": 31,
   "id": "nearby-script",
   "metadata": {},
   "outputs": [
    {
     "data": {
      "text/plain": [
       "1"
      ]
     },
     "execution_count": 31,
     "metadata": {},
     "output_type": "execute_result"
    }
   ],
   "source": [
    "topic_results[0].argmax()\n",
    "#index position for the most representative target or topic "
   ]
  },
  {
   "cell_type": "code",
   "execution_count": 32,
   "id": "unique-archive",
   "metadata": {},
   "outputs": [
    {
     "data": {
      "text/plain": [
       "array([0.        , 0.12075603, 0.00140297, 0.05919954, 0.01518909,\n",
       "       0.        , 0.        ])"
      ]
     },
     "execution_count": 32,
     "metadata": {},
     "output_type": "execute_result"
    }
   ],
   "source": [
    "topic_results[0]"
   ]
  },
  {
   "cell_type": "code",
   "execution_count": 29,
   "id": "environmental-advertising",
   "metadata": {},
   "outputs": [],
   "source": [
    "#if we want to do this across the columns"
   ]
  },
  {
   "cell_type": "code",
   "execution_count": 34,
   "id": "global-remark",
   "metadata": {},
   "outputs": [
    {
     "data": {
      "text/plain": [
       "array([1, 1, 1, ..., 0, 4, 3], dtype=int64)"
      ]
     },
     "execution_count": 34,
     "metadata": {},
     "output_type": "execute_result"
    }
   ],
   "source": [
    "topic_results.argmax(axis=1)\n",
    "#along the columns"
   ]
  },
  {
   "cell_type": "code",
   "execution_count": 35,
   "id": "future-entrepreneur",
   "metadata": {},
   "outputs": [],
   "source": [
    "npr['Topic']=topic_results.argmax(axis=1)"
   ]
  },
  {
   "cell_type": "code",
   "execution_count": 36,
   "id": "christian-penguin",
   "metadata": {},
   "outputs": [
    {
     "data": {
      "text/html": [
       "<div>\n",
       "<style scoped>\n",
       "    .dataframe tbody tr th:only-of-type {\n",
       "        vertical-align: middle;\n",
       "    }\n",
       "\n",
       "    .dataframe tbody tr th {\n",
       "        vertical-align: top;\n",
       "    }\n",
       "\n",
       "    .dataframe thead th {\n",
       "        text-align: right;\n",
       "    }\n",
       "</style>\n",
       "<table border=\"1\" class=\"dataframe\">\n",
       "  <thead>\n",
       "    <tr style=\"text-align: right;\">\n",
       "      <th></th>\n",
       "      <th>Article</th>\n",
       "      <th>Topic</th>\n",
       "    </tr>\n",
       "  </thead>\n",
       "  <tbody>\n",
       "    <tr>\n",
       "      <th>0</th>\n",
       "      <td>In the Washington of 2016, even when the polic...</td>\n",
       "      <td>1</td>\n",
       "    </tr>\n",
       "    <tr>\n",
       "      <th>1</th>\n",
       "      <td>Donald Trump has used Twitter  —   his prefe...</td>\n",
       "      <td>1</td>\n",
       "    </tr>\n",
       "    <tr>\n",
       "      <th>2</th>\n",
       "      <td>Donald Trump is unabashedly praising Russian...</td>\n",
       "      <td>1</td>\n",
       "    </tr>\n",
       "    <tr>\n",
       "      <th>3</th>\n",
       "      <td>Updated at 2:50 p. m. ET, Russian President Vl...</td>\n",
       "      <td>3</td>\n",
       "    </tr>\n",
       "    <tr>\n",
       "      <th>4</th>\n",
       "      <td>From photography, illustration and video, to d...</td>\n",
       "      <td>6</td>\n",
       "    </tr>\n",
       "  </tbody>\n",
       "</table>\n",
       "</div>"
      ],
      "text/plain": [
       "                                             Article  Topic\n",
       "0  In the Washington of 2016, even when the polic...      1\n",
       "1    Donald Trump has used Twitter  —   his prefe...      1\n",
       "2    Donald Trump is unabashedly praising Russian...      1\n",
       "3  Updated at 2:50 p. m. ET, Russian President Vl...      3\n",
       "4  From photography, illustration and video, to d...      6"
      ]
     },
     "execution_count": 36,
     "metadata": {},
     "output_type": "execute_result"
    }
   ],
   "source": [
    "npr.head()"
   ]
  },
  {
   "cell_type": "code",
   "execution_count": 37,
   "id": "civilian-market",
   "metadata": {},
   "outputs": [],
   "source": [
    "#the main thing, we need to do as, \n",
    "#we need to label the topics\n",
    "#ex, topic 6 can be education"
   ]
  },
  {
   "cell_type": "code",
   "execution_count": 38,
   "id": "recognized-seattle",
   "metadata": {},
   "outputs": [],
   "source": [
    "myTopicDictionary= {0:'health',1:'elec',2:'legis',3:'politic',4:'elec',5:'music',6:'edu'}\n",
    "npr['Topic Label'] = npr['Topic'].map(myTopicDictionary)"
   ]
  },
  {
   "cell_type": "code",
   "execution_count": 39,
   "id": "oriental-priority",
   "metadata": {},
   "outputs": [
    {
     "data": {
      "text/html": [
       "<div>\n",
       "<style scoped>\n",
       "    .dataframe tbody tr th:only-of-type {\n",
       "        vertical-align: middle;\n",
       "    }\n",
       "\n",
       "    .dataframe tbody tr th {\n",
       "        vertical-align: top;\n",
       "    }\n",
       "\n",
       "    .dataframe thead th {\n",
       "        text-align: right;\n",
       "    }\n",
       "</style>\n",
       "<table border=\"1\" class=\"dataframe\">\n",
       "  <thead>\n",
       "    <tr style=\"text-align: right;\">\n",
       "      <th></th>\n",
       "      <th>Article</th>\n",
       "      <th>Topic</th>\n",
       "      <th>Topic Label</th>\n",
       "    </tr>\n",
       "  </thead>\n",
       "  <tbody>\n",
       "    <tr>\n",
       "      <th>0</th>\n",
       "      <td>In the Washington of 2016, even when the polic...</td>\n",
       "      <td>1</td>\n",
       "      <td>elec</td>\n",
       "    </tr>\n",
       "    <tr>\n",
       "      <th>1</th>\n",
       "      <td>Donald Trump has used Twitter  —   his prefe...</td>\n",
       "      <td>1</td>\n",
       "      <td>elec</td>\n",
       "    </tr>\n",
       "    <tr>\n",
       "      <th>2</th>\n",
       "      <td>Donald Trump is unabashedly praising Russian...</td>\n",
       "      <td>1</td>\n",
       "      <td>elec</td>\n",
       "    </tr>\n",
       "    <tr>\n",
       "      <th>3</th>\n",
       "      <td>Updated at 2:50 p. m. ET, Russian President Vl...</td>\n",
       "      <td>3</td>\n",
       "      <td>politic</td>\n",
       "    </tr>\n",
       "    <tr>\n",
       "      <th>4</th>\n",
       "      <td>From photography, illustration and video, to d...</td>\n",
       "      <td>6</td>\n",
       "      <td>edu</td>\n",
       "    </tr>\n",
       "  </tbody>\n",
       "</table>\n",
       "</div>"
      ],
      "text/plain": [
       "                                             Article  Topic Topic Label\n",
       "0  In the Washington of 2016, even when the polic...      1        elec\n",
       "1    Donald Trump has used Twitter  —   his prefe...      1        elec\n",
       "2    Donald Trump is unabashedly praising Russian...      1        elec\n",
       "3  Updated at 2:50 p. m. ET, Russian President Vl...      3     politic\n",
       "4  From photography, illustration and video, to d...      6         edu"
      ]
     },
     "execution_count": 39,
     "metadata": {},
     "output_type": "execute_result"
    }
   ],
   "source": [
    "npr.head()"
   ]
  },
  {
   "cell_type": "code",
   "execution_count": null,
   "id": "extra-apparel",
   "metadata": {},
   "outputs": [],
   "source": []
  }
 ],
 "metadata": {
  "kernelspec": {
   "display_name": "Python 3",
   "language": "python",
   "name": "python3"
  },
  "language_info": {
   "codemirror_mode": {
    "name": "ipython",
    "version": 3
   },
   "file_extension": ".py",
   "mimetype": "text/x-python",
   "name": "python",
   "nbconvert_exporter": "python",
   "pygments_lexer": "ipython3",
   "version": "3.8.5"
  }
 },
 "nbformat": 4,
 "nbformat_minor": 5
}
