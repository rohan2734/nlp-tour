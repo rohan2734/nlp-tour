{
 "cells": [
  {
   "cell_type": "code",
   "execution_count": 1,
   "id": "lasting-storage",
   "metadata": {},
   "outputs": [],
   "source": [
    "import nltk"
   ]
  },
  {
   "cell_type": "code",
   "execution_count": 2,
   "id": "level-kansas",
   "metadata": {},
   "outputs": [
    {
     "name": "stderr",
     "output_type": "stream",
     "text": [
      "[nltk_data] Downloading package vader_lexicon to\n",
      "[nltk_data]     C:\\Users\\Hp\\AppData\\Roaming\\nltk_data...\n"
     ]
    },
    {
     "data": {
      "text/plain": [
       "True"
      ]
     },
     "execution_count": 2,
     "metadata": {},
     "output_type": "execute_result"
    }
   ],
   "source": [
    "nltk.download('vader_lexicon')"
   ]
  },
  {
   "cell_type": "code",
   "execution_count": 3,
   "id": "outside-strategy",
   "metadata": {},
   "outputs": [],
   "source": [
    "from nltk.sentiment.vader import SentimentIntensityAnalyzer"
   ]
  },
  {
   "cell_type": "code",
   "execution_count": 5,
   "id": "hairy-somewhere",
   "metadata": {},
   "outputs": [],
   "source": [
    "sid = SentimentIntensityAnalyzer()\n",
    "#create an instance\n",
    "#vader SentimentIntensityAnalyzer it takes a string , and returns a dictionary\n",
    "#of scores and 4 categegories and compound scores\n",
    "\n"
   ]
  },
  {
   "cell_type": "code",
   "execution_count": 6,
   "id": "finite-playlist",
   "metadata": {},
   "outputs": [],
   "source": [
    "a = \"This is a good movie\""
   ]
  },
  {
   "cell_type": "code",
   "execution_count": 7,
   "id": "nutritional-hanging",
   "metadata": {},
   "outputs": [
    {
     "data": {
      "text/plain": [
       "{'neg': 0.0, 'neu': 0.508, 'pos': 0.492, 'compound': 0.4404}"
      ]
     },
     "execution_count": 7,
     "metadata": {},
     "output_type": "execute_result"
    }
   ],
   "source": [
    "sid.polarity_scores(a)"
   ]
  },
  {
   "cell_type": "code",
   "execution_count": 8,
   "id": "unable-crash",
   "metadata": {},
   "outputs": [],
   "source": [
    "#it has negative value, neutral value, positive value, and compoud value\n",
    "#which normalizes the frist 3 values\n",
    "#it has 0 as negative values, since it is a good movie\n"
   ]
  },
  {
   "cell_type": "code",
   "execution_count": 9,
   "id": "nonprofit-firewall",
   "metadata": {},
   "outputs": [],
   "source": [
    "#lets try complicated movie"
   ]
  },
  {
   "cell_type": "code",
   "execution_count": 10,
   "id": "connected-silly",
   "metadata": {},
   "outputs": [],
   "source": [
    "a = \"This was the best, most awesome movie EVER MADE!!!\""
   ]
  },
  {
   "cell_type": "code",
   "execution_count": 11,
   "id": "instructional-playing",
   "metadata": {},
   "outputs": [],
   "source": [
    "#vader, is smart enough to understand capitalisation, and repeated exclamation"
   ]
  },
  {
   "cell_type": "code",
   "execution_count": 12,
   "id": "technological-manor",
   "metadata": {},
   "outputs": [
    {
     "data": {
      "text/plain": [
       "{'neg': 0.0, 'neu': 0.425, 'pos': 0.575, 'compound': 0.8877}"
      ]
     },
     "execution_count": 12,
     "metadata": {},
     "output_type": "execute_result"
    }
   ],
   "source": [
    "sid.polarity_scores(a)"
   ]
  },
  {
   "cell_type": "code",
   "execution_count": 13,
   "id": "convinced-petroleum",
   "metadata": {},
   "outputs": [],
   "source": [
    "#here it is more positive, than the previous one, and the compound score is also \n",
    "#high, since neutral value is dropped"
   ]
  },
  {
   "cell_type": "code",
   "execution_count": 14,
   "id": "radical-society",
   "metadata": {},
   "outputs": [],
   "source": [
    "#lets try a , negative string\n",
    "a = \"This was the WORST movie that has ever disgraced the screen.\""
   ]
  },
  {
   "cell_type": "code",
   "execution_count": 15,
   "id": "primary-hayes",
   "metadata": {},
   "outputs": [
    {
     "data": {
      "text/plain": [
       "{'neg': 0.465, 'neu': 0.535, 'pos': 0.0, 'compound': -0.8331}"
      ]
     },
     "execution_count": 15,
     "metadata": {},
     "output_type": "execute_result"
    }
   ],
   "source": [
    "sid.polarity_scores(a)"
   ]
  },
  {
   "cell_type": "code",
   "execution_count": 16,
   "id": "tight-anime",
   "metadata": {},
   "outputs": [],
   "source": [
    "#here we can see that there is no positive, and the compound value, is negative \n",
    "#we can see that the compound score, is +,- and 0"
   ]
  },
  {
   "cell_type": "code",
   "execution_count": 17,
   "id": "diagnostic-combining",
   "metadata": {},
   "outputs": [],
   "source": [
    "#so now , we are going to analyze amazon reviews using vader\n"
   ]
  },
  {
   "cell_type": "code",
   "execution_count": null,
   "id": "actual-preview",
   "metadata": {},
   "outputs": [],
   "source": []
  }
 ],
 "metadata": {
  "kernelspec": {
   "display_name": "Python 3",
   "language": "python",
   "name": "python3"
  },
  "language_info": {
   "codemirror_mode": {
    "name": "ipython",
    "version": 3
   },
   "file_extension": ".py",
   "mimetype": "text/x-python",
   "name": "python",
   "nbconvert_exporter": "python",
   "pygments_lexer": "ipython3",
   "version": "3.8.5"
  }
 },
 "nbformat": 4,
 "nbformat_minor": 5
}
