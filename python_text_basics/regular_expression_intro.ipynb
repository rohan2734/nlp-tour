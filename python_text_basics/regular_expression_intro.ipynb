{
 "cells": [
  {
   "cell_type": "code",
   "execution_count": 2,
   "id": "earned-plain",
   "metadata": {},
   "outputs": [],
   "source": [
    "text = \"the phone number of the agent is 408-555-1234. Call soon!\""
   ]
  },
  {
   "cell_type": "code",
   "execution_count": 3,
   "id": "approved-receipt",
   "metadata": {},
   "outputs": [
    {
     "data": {
      "text/plain": [
       "True"
      ]
     },
     "execution_count": 3,
     "metadata": {},
     "output_type": "execute_result"
    }
   ],
   "source": [
    "\"phone\" in text"
   ]
  },
  {
   "cell_type": "code",
   "execution_count": 4,
   "id": "handled-madagascar",
   "metadata": {},
   "outputs": [
    {
     "data": {
      "text/plain": [
       "True"
      ]
     },
     "execution_count": 4,
     "metadata": {},
     "output_type": "execute_result"
    }
   ],
   "source": [
    "\"408-555-1234\" in text"
   ]
  },
  {
   "cell_type": "code",
   "execution_count": 5,
   "id": "private-cement",
   "metadata": {},
   "outputs": [
    {
     "data": {
      "text/plain": [
       "<re.Match object; span=(4, 9), match='phone'>"
      ]
     },
     "execution_count": 5,
     "metadata": {},
     "output_type": "execute_result"
    }
   ],
   "source": [
    "import re # regular expression library\n",
    "pattern = \"phone\"\n",
    "re.search(pattern,text)#returns match object"
   ]
  },
  {
   "cell_type": "code",
   "execution_count": 6,
   "id": "imposed-massachusetts",
   "metadata": {},
   "outputs": [
    {
     "data": {
      "text/plain": [
       "(4, 9)"
      ]
     },
     "execution_count": 6,
     "metadata": {},
     "output_type": "execute_result"
    }
   ],
   "source": [
    "my_match = re.search(pattern,text)\n",
    "my_match.span()"
   ]
  },
  {
   "cell_type": "code",
   "execution_count": 7,
   "id": "superior-support",
   "metadata": {},
   "outputs": [
    {
     "data": {
      "text/plain": [
       "4"
      ]
     },
     "execution_count": 7,
     "metadata": {},
     "output_type": "execute_result"
    }
   ],
   "source": [
    "my_match.start()\n"
   ]
  },
  {
   "cell_type": "code",
   "execution_count": 8,
   "id": "responsible-brooks",
   "metadata": {},
   "outputs": [],
   "source": [
    "text = \"my phone is a new phone\""
   ]
  },
  {
   "cell_type": "code",
   "execution_count": 9,
   "id": "becoming-albany",
   "metadata": {},
   "outputs": [
    {
     "data": {
      "text/plain": [
       "(3, 8)"
      ]
     },
     "execution_count": 9,
     "metadata": {},
     "output_type": "execute_result"
    }
   ],
   "source": [
    "match = re.search(pattern,text)\n",
    "match.span()#it can only search the first word"
   ]
  },
  {
   "cell_type": "code",
   "execution_count": 10,
   "id": "satellite-allah",
   "metadata": {},
   "outputs": [
    {
     "data": {
      "text/plain": [
       "['phone', 'phone']"
      ]
     },
     "execution_count": 10,
     "metadata": {},
     "output_type": "execute_result"
    }
   ],
   "source": [
    "all_matches = re.findall(\"phone\",text)\n",
    "all_matches"
   ]
  },
  {
   "cell_type": "code",
   "execution_count": 11,
   "id": "israeli-conducting",
   "metadata": {},
   "outputs": [
    {
     "name": "stdout",
     "output_type": "stream",
     "text": [
      "(3, 8)\n",
      "(18, 23)\n"
     ]
    }
   ],
   "source": [
    "for match  in re.finditer(pattern,text):\n",
    "    print(match.span())"
   ]
  },
  {
   "cell_type": "code",
   "execution_count": 12,
   "id": "recovered-quantity",
   "metadata": {},
   "outputs": [],
   "source": [
    "text =\"my telephone number is 777-555-1234\""
   ]
  },
  {
   "cell_type": "code",
   "execution_count": 13,
   "id": "selective-spiritual",
   "metadata": {},
   "outputs": [
    {
     "data": {
      "text/plain": [
       "'my telephone number is 777-555-1234'"
      ]
     },
     "execution_count": 13,
     "metadata": {},
     "output_type": "execute_result"
    }
   ],
   "source": [
    "text\n"
   ]
  },
  {
   "cell_type": "code",
   "execution_count": 14,
   "id": "patient-hawaiian",
   "metadata": {},
   "outputs": [],
   "source": [
    "#in order, for pythonto understand that , it is a regular expression\n",
    "pattern = r'\\d\\d\\d-\\d\\d\\d-\\d\\d\\d\\d'\n"
   ]
  },
  {
   "cell_type": "code",
   "execution_count": 15,
   "id": "given-highway",
   "metadata": {},
   "outputs": [],
   "source": [
    "phone_number = re.search(pattern,text)"
   ]
  },
  {
   "cell_type": "code",
   "execution_count": 16,
   "id": "dated-prevention",
   "metadata": {},
   "outputs": [
    {
     "data": {
      "text/plain": [
       "'777-555-1234'"
      ]
     },
     "execution_count": 16,
     "metadata": {},
     "output_type": "execute_result"
    }
   ],
   "source": [
    "phone_number.span()\n",
    "phone_number.group()\n",
    "#phone_number"
   ]
  },
  {
   "cell_type": "code",
   "execution_count": 17,
   "id": "operating-generator",
   "metadata": {},
   "outputs": [],
   "source": [
    "pattern=r'\\d{3}-\\d{3}-\\d{4}'\n",
    "phone_number = re.search(pattern,text)"
   ]
  },
  {
   "cell_type": "code",
   "execution_count": 18,
   "id": "aquatic-spelling",
   "metadata": {},
   "outputs": [
    {
     "data": {
      "text/plain": [
       "'777-555-1234'"
      ]
     },
     "execution_count": 18,
     "metadata": {},
     "output_type": "execute_result"
    }
   ],
   "source": [
    "phone_number\n",
    "phone_number.group()"
   ]
  },
  {
   "cell_type": "code",
   "execution_count": 20,
   "id": "french-timeline",
   "metadata": {},
   "outputs": [
    {
     "data": {
      "text/plain": [
       "'777'"
      ]
     },
     "execution_count": 20,
     "metadata": {},
     "output_type": "execute_result"
    }
   ],
   "source": [
    "pattern=r'(\\d{3})-(\\d{3})-(\\d{4})'\n",
    "my_match = re.search(pattern,text)\n",
    "\n",
    "my_match.group(1) #we can access them seperately\n",
    "#they are seperated as group 1, 2 ,3 \n",
    "# and are accessed by 1,2,3\n"
   ]
  },
  {
   "cell_type": "code",
   "execution_count": 21,
   "id": "surface-original",
   "metadata": {},
   "outputs": [
    {
     "data": {
      "text/plain": [
       "<re.Match object; span=(5, 8), match='man'>"
      ]
     },
     "execution_count": 21,
     "metadata": {},
     "output_type": "execute_result"
    }
   ],
   "source": [
    "re.search(r'man|woman','this man was here')"
   ]
  },
  {
   "cell_type": "code",
   "execution_count": 22,
   "id": "actual-feature",
   "metadata": {},
   "outputs": [
    {
     "data": {
      "text/plain": [
       "<re.Match object; span=(5, 10), match='woman'>"
      ]
     },
     "execution_count": 22,
     "metadata": {},
     "output_type": "execute_result"
    }
   ],
   "source": [
    "re.search(r'man|woman','this woman was here')"
   ]
  },
  {
   "cell_type": "code",
   "execution_count": 25,
   "id": "coral-poetry",
   "metadata": {},
   "outputs": [
    {
     "data": {
      "text/plain": [
       "['cat', 'hat', 'sat', 'lat']"
      ]
     },
     "execution_count": 25,
     "metadata": {},
     "output_type": "execute_result"
    }
   ],
   "source": [
    "re.findall(r'.at','the cat in the hat sat splat')\n",
    "#it will only give one letter before\n",
    "#..at, will grab two letters beforeit"
   ]
  },
  {
   "cell_type": "markdown",
   "id": "cellular-incident",
   "metadata": {},
   "source": [
    "^(starts with)\n",
    "$(ends with)"
   ]
  },
  {
   "cell_type": "code",
   "execution_count": 26,
   "id": "noted-calibration",
   "metadata": {},
   "outputs": [
    {
     "data": {
      "text/plain": [
       "['2']"
      ]
     },
     "execution_count": 26,
     "metadata": {},
     "output_type": "execute_result"
    }
   ],
   "source": [
    "re.findall(r'\\d$','this ends with a number 2')\n",
    "#\\d$, is for the whole string, not for  a word "
   ]
  },
  {
   "cell_type": "code",
   "execution_count": 32,
   "id": "greenhouse-ranch",
   "metadata": {},
   "outputs": [
    {
     "data": {
      "text/plain": [
       "['1']"
      ]
     },
     "execution_count": 32,
     "metadata": {},
     "output_type": "execute_result"
    }
   ],
   "source": [
    "re.findall(r'^\\d','1 is the lonelies number')\n",
    "#^\\d, is for the whole string, not for  a word "
   ]
  },
  {
   "cell_type": "code",
   "execution_count": 34,
   "id": "flying-humidity",
   "metadata": {},
   "outputs": [
    {
     "data": {
      "text/plain": [
       "['there are ', ' numbers ', ' inside ', ' this sentence']"
      ]
     },
     "execution_count": 34,
     "metadata": {},
     "output_type": "execute_result"
    }
   ],
   "source": [
    "phrase = \"there are 3 numbers 34 inside 5 this sentence\"\n",
    "# re.findall(r'[^\\d]',phrase)\n",
    "#when the ^ is inside [], then it is exclusion\n",
    "\n",
    "#if we want all the letters get back together, then we add +\n",
    "re.findall(r'[^\\d]+',phrase)"
   ]
  },
  {
   "cell_type": "code",
   "execution_count": 36,
   "id": "missing-catch",
   "metadata": {},
   "outputs": [],
   "source": [
    "test_phrase = \"this is a string! but it has punctuation. How to remove it?\"\n",
    "my_list = re.findall(r'[^!.?]+',test_phrase)\n",
    "#to remove punctuation"
   ]
  },
  {
   "cell_type": "code",
   "execution_count": 41,
   "id": "angry-collector",
   "metadata": {},
   "outputs": [
    {
     "data": {
      "text/plain": [
       "'this is a string  but it has punctuation  How to remove it'"
      ]
     },
     "execution_count": 41,
     "metadata": {},
     "output_type": "execute_result"
    }
   ],
   "source": [
    "' '.join(my_list)\n"
   ]
  },
  {
   "cell_type": "code",
   "execution_count": 51,
   "id": "intense-synthetic",
   "metadata": {},
   "outputs": [
    {
     "data": {
      "text/plain": [
       "['hyphen-words', 'long-ish']"
      ]
     },
     "execution_count": 51,
     "metadata": {},
     "output_type": "execute_result"
    }
   ],
   "source": [
    "text  = 'only find the hyphen-words. Were are the long-ish dash words?'\n",
    "re.findall(r'[\\w]+-[\\w]+',text)\n",
    "# re.findall(r'[\\w]+-',text)\n",
    "re.findall(r'\\w+-\\w+',text)\n",
    "\n"
   ]
  },
  {
   "cell_type": "code",
   "execution_count": null,
   "id": "actual-palmer",
   "metadata": {},
   "outputs": [],
   "source": []
  }
 ],
 "metadata": {
  "kernelspec": {
   "display_name": "Python 3",
   "language": "python",
   "name": "python3"
  },
  "language_info": {
   "codemirror_mode": {
    "name": "ipython",
    "version": 3
   },
   "file_extension": ".py",
   "mimetype": "text/x-python",
   "name": "python",
   "nbconvert_exporter": "python",
   "pygments_lexer": "ipython3",
   "version": "3.8.5"
  }
 },
 "nbformat": 4,
 "nbformat_minor": 5
}
