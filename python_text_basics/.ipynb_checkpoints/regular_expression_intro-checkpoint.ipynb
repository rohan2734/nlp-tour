{
 "cells": [
  {
   "cell_type": "code",
   "execution_count": 8,
   "id": "earned-plain",
   "metadata": {},
   "outputs": [],
   "source": [
    "text = \"the phone number of the agent is 408-555-1234. Call soon!\""
   ]
  },
  {
   "cell_type": "code",
   "execution_count": 9,
   "id": "approved-receipt",
   "metadata": {},
   "outputs": [
    {
     "data": {
      "text/plain": [
       "True"
      ]
     },
     "execution_count": 9,
     "metadata": {},
     "output_type": "execute_result"
    }
   ],
   "source": [
    "\"phone\" in text"
   ]
  },
  {
   "cell_type": "code",
   "execution_count": 10,
   "id": "handled-madagascar",
   "metadata": {},
   "outputs": [
    {
     "data": {
      "text/plain": [
       "True"
      ]
     },
     "execution_count": 10,
     "metadata": {},
     "output_type": "execute_result"
    }
   ],
   "source": [
    "\"408-555-1234\" in text"
   ]
  },
  {
   "cell_type": "code",
   "execution_count": 11,
   "id": "private-cement",
   "metadata": {},
   "outputs": [
    {
     "data": {
      "text/plain": [
       "<re.Match object; span=(4, 9), match='phone'>"
      ]
     },
     "execution_count": 11,
     "metadata": {},
     "output_type": "execute_result"
    }
   ],
   "source": [
    "import re # regular expression library\n",
    "pattern = \"phone\"\n",
    "re.search(pattern,text)#returns match object"
   ]
  },
  {
   "cell_type": "code",
   "execution_count": 12,
   "id": "imposed-massachusetts",
   "metadata": {},
   "outputs": [
    {
     "data": {
      "text/plain": [
       "(4, 9)"
      ]
     },
     "execution_count": 12,
     "metadata": {},
     "output_type": "execute_result"
    }
   ],
   "source": [
    "my_match = re.search(pattern,text)\n",
    "my_match.span()"
   ]
  },
  {
   "cell_type": "code",
   "execution_count": 13,
   "id": "superior-support",
   "metadata": {},
   "outputs": [
    {
     "data": {
      "text/plain": [
       "4"
      ]
     },
     "execution_count": 13,
     "metadata": {},
     "output_type": "execute_result"
    }
   ],
   "source": [
    "my_match.start()\n"
   ]
  },
  {
   "cell_type": "code",
   "execution_count": 14,
   "id": "responsible-brooks",
   "metadata": {},
   "outputs": [],
   "source": [
    "text = \"my phone is a new phone\""
   ]
  },
  {
   "cell_type": "code",
   "execution_count": 15,
   "id": "becoming-albany",
   "metadata": {},
   "outputs": [
    {
     "data": {
      "text/plain": [
       "(3, 8)"
      ]
     },
     "execution_count": 15,
     "metadata": {},
     "output_type": "execute_result"
    }
   ],
   "source": [
    "match = re.search(pattern,text)\n",
    "match.span()#it can only search the first word"
   ]
  },
  {
   "cell_type": "code",
   "execution_count": 17,
   "id": "satellite-allah",
   "metadata": {},
   "outputs": [
    {
     "data": {
      "text/plain": [
       "['phone', 'phone']"
      ]
     },
     "execution_count": 17,
     "metadata": {},
     "output_type": "execute_result"
    }
   ],
   "source": [
    "all_matches = re.findall(\"phone\",text)\n",
    "all_matches"
   ]
  },
  {
   "cell_type": "code",
   "execution_count": 19,
   "id": "israeli-conducting",
   "metadata": {},
   "outputs": [
    {
     "name": "stdout",
     "output_type": "stream",
     "text": [
      "(3, 8)\n",
      "(18, 23)\n"
     ]
    }
   ],
   "source": [
    "for match  in re.finditer(pattern,text):\n",
    "    print(match.span())"
   ]
  },
  {
   "cell_type": "code",
   "execution_count": 21,
   "id": "recovered-quantity",
   "metadata": {},
   "outputs": [],
   "source": [
    "text =\"my telephone number is 777-555-1234\""
   ]
  },
  {
   "cell_type": "code",
   "execution_count": 22,
   "id": "selective-spiritual",
   "metadata": {},
   "outputs": [
    {
     "data": {
      "text/plain": [
       "'my telephone number is 777-555-1234'"
      ]
     },
     "execution_count": 22,
     "metadata": {},
     "output_type": "execute_result"
    }
   ],
   "source": [
    "text\n"
   ]
  },
  {
   "cell_type": "code",
   "execution_count": 23,
   "id": "patient-hawaiian",
   "metadata": {},
   "outputs": [],
   "source": [
    "#in order, for pythonto understand that , it is a regular expression\n",
    "pattern = r'\\d\\d\\d-\\d\\d\\d-\\d\\d\\d\\d'\n"
   ]
  },
  {
   "cell_type": "code",
   "execution_count": 24,
   "id": "given-highway",
   "metadata": {},
   "outputs": [],
   "source": [
    "phone_number = re.search(pattern,text)"
   ]
  },
  {
   "cell_type": "code",
   "execution_count": 28,
   "id": "dated-prevention",
   "metadata": {},
   "outputs": [
    {
     "data": {
      "text/plain": [
       "'777-555-1234'"
      ]
     },
     "execution_count": 28,
     "metadata": {},
     "output_type": "execute_result"
    }
   ],
   "source": [
    "phone_number.span()\n",
    "phone_number.group()\n",
    "#phone_number"
   ]
  },
  {
   "cell_type": "code",
   "execution_count": 33,
   "id": "operating-generator",
   "metadata": {},
   "outputs": [],
   "source": [
    "pattern=r'\\d{3}-\\d{3}-\\d{4}'\n",
    "phone_number = re.search(pattern,text)"
   ]
  },
  {
   "cell_type": "code",
   "execution_count": 35,
   "id": "aquatic-spelling",
   "metadata": {},
   "outputs": [
    {
     "data": {
      "text/plain": [
       "'777-555-1234'"
      ]
     },
     "execution_count": 35,
     "metadata": {},
     "output_type": "execute_result"
    }
   ],
   "source": [
    "phone_number\n",
    "phone_number.group()"
   ]
  },
  {
   "cell_type": "code",
   "execution_count": null,
   "id": "french-timeline",
   "metadata": {},
   "outputs": [],
   "source": []
  }
 ],
 "metadata": {
  "kernelspec": {
   "display_name": "Python 3",
   "language": "python",
   "name": "python3"
  },
  "language_info": {
   "codemirror_mode": {
    "name": "ipython",
    "version": 3
   },
   "file_extension": ".py",
   "mimetype": "text/x-python",
   "name": "python",
   "nbconvert_exporter": "python",
   "pygments_lexer": "ipython3",
   "version": "3.8.5"
  }
 },
 "nbformat": 4,
 "nbformat_minor": 5
}
