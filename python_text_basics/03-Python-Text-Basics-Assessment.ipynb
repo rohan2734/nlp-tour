{
 "cells": [
  {
   "cell_type": "markdown",
   "metadata": {},
   "source": [
    "___\n",
    "\n",
    "<a href='http://www.pieriandata.com'> <img src='../Pierian_Data_Logo.png' /></a>\n",
    "___"
   ]
  },
  {
   "cell_type": "markdown",
   "metadata": {
    "collapsed": true
   },
   "source": [
    "# Python Text Basics Assessment\n",
    "\n",
    "Welcome to your assessment! Complete the tasks described in bold below by typing the relevant code in the cells.<br>\n",
    "You can compare your answers to the Solutions notebook provided in this folder."
   ]
  },
  {
   "cell_type": "markdown",
   "metadata": {},
   "source": [
    "## f-Strings\n",
    "#### 1. Print an f-string that displays `NLP stands for Natural Language Processing` using the variables provided."
   ]
  },
  {
   "cell_type": "code",
   "execution_count": 1,
   "metadata": {},
   "outputs": [
    {
     "name": "stdout",
     "output_type": "stream",
     "text": [
      "NLP stands for Natural Language Processing\n"
     ]
    }
   ],
   "source": [
    "abbr = 'NLP'\n",
    "full_text = 'Natural Language Processing'\n",
    "\n",
    "# Enter your code here:\n",
    "print(f'{abbr} stands for {full_text}')"
   ]
  },
  {
   "cell_type": "markdown",
   "metadata": {},
   "source": [
    "## Files\n",
    "#### 2. Create a file in the current working directory called `contacts.txt` by running the cell below:"
   ]
  },
  {
   "cell_type": "code",
   "execution_count": 2,
   "metadata": {},
   "outputs": [
    {
     "name": "stdout",
     "output_type": "stream",
     "text": [
      "Writing contacts.txt\n"
     ]
    }
   ],
   "source": [
    "%%writefile contacts.txt\n",
    "First_Name Last_Name, Title, Extension, Email"
   ]
  },
  {
   "cell_type": "markdown",
   "metadata": {},
   "source": [
    "#### 3. Open the file and use .read() to save the contents of the file to a string called `fields`.  Make sure the file is closed at the end."
   ]
  },
  {
   "cell_type": "code",
   "execution_count": 8,
   "metadata": {},
   "outputs": [],
   "source": [
    "# Write your code here:\n",
    "fields = open(\"./contacts.txt\")\n",
    "\n",
    "\n",
    "\n",
    "    \n",
    "# Run fields to see the contents of contacts.txt:\n",
    "fields\n",
    "fields.close()"
   ]
  },
  {
   "cell_type": "code",
   "execution_count": 4,
   "metadata": {},
   "outputs": [
    {
     "data": {
      "text/plain": [
       "'D:\\\\Documents\\\\github-projects\\\\NLP-udemy\\\\python_text_basics'"
      ]
     },
     "execution_count": 4,
     "metadata": {},
     "output_type": "execute_result"
    }
   ],
   "source": [
    "pwd"
   ]
  },
  {
   "cell_type": "markdown",
   "metadata": {},
   "source": [
    "## Working with PDF Files\n",
    "#### 4. Use PyPDF2 to open the file `Business_Proposal.pdf`. Extract the text of page 2."
   ]
  },
  {
   "cell_type": "code",
   "execution_count": 9,
   "metadata": {},
   "outputs": [
    {
     "name": "stdout",
     "output_type": "stream",
     "text": [
      "Page \n",
      "2\n",
      " \n",
      "of \n",
      "4\n",
      " \n",
      " \n",
      " \n",
      "Pre\n",
      "-\n",
      "Exam Activities\n",
      " \n",
      "\n",
      " \n",
      "It is the responsibility of the candidate to \n",
      "ensure \n",
      "an appropriate environment for the examination\n",
      ".\n",
      " \n",
      "You should take the online Examination \n",
      "o\n",
      "nly in a \n",
      "well illuminated \n",
      "Closed Room\n",
      " \n",
      "which is free from \n",
      "external noise or disturbances. Complete your breakfast or Lunch before commencement of the \n",
      "Test.\n",
      " \n",
      "You will not be permitted to\n",
      " \n",
      "move away from the camera even to\n",
      " \n",
      "use toilet/washroom during \n",
      "the examination\n",
      ", so be prepared.\n",
      " \n",
      "\n",
      " \n",
      "The University \n",
      "ID Card/ Valid Photo ID proof issued by the Government should be kept handy for \n",
      "validation by the proctor, while appearing in online examination. Authentication/ verification will \n",
      "be done during the process of exam by a proctor\n",
      " \n",
      "via device camera.\n",
      " \n",
      "However, \n",
      "failure of \n",
      "verification/ authentication can lead to cancellation of exam. \n",
      " \n",
      "\n",
      " \n",
      "Please ensure to install/use updated version of web\n",
      "-\n",
      "browsers. \n",
      "Latest \n",
      "Google \n",
      "Chrome is the \n",
      "recommended browser\n",
      ".\n",
      " \n",
      "Ensure you update your Google Chrome browser version in your devices \n",
      "b\n",
      "efore your exams.\n",
      " \n",
      "If you want to use \n",
      "iPhone or iPad, only \n",
      "Safari Version 13 is supported \n",
      "and \n",
      "Version 14 and above are not supported.\n",
      " \n",
      "\n",
      " \n",
      "Please note that you will not be permitted to login if you are late by 15 min or more\n",
      " \n",
      "from the \n",
      "scheduled start time of the Test\n",
      ".\n",
      " \n",
      "\n",
      " \n",
      "Students must ensure that they have appropriate stationary for each examination\n",
      ". \n",
      "(White A4 \n",
      "sheets, Graph Sheets \n",
      "and black pen are must to write your examinations)\n",
      " \n",
      "\n",
      " \n",
      "After every exam ensure you preserve all the answ\n",
      "er sheets used in an exam separately in a file, \n",
      "to be submitted to the University \n",
      "i\n",
      "f asked\n",
      " \n",
      "for\n",
      ". \n",
      " \n",
      "\n",
      " \n",
      "As it is a video proctored Test, students should wear Formal Dress only.\n",
      " \n",
      " \n",
      "During the exam\n",
      " \n",
      "\n",
      " \n",
      "Once logged into \n",
      "vit.codetantra.com\n",
      " \n",
      "platform, you will find a \n",
      "tile \n",
      "labelled \n",
      "\n",
      "Tests\n",
      "\n",
      "your\n",
      " \n",
      "scheduled tests there.\n",
      " \n",
      "Help manual and a \n",
      "demo video will also be there. Please watch before you take of the mock \n",
      "test.\n",
      " \n",
      "\n",
      " \n",
      "You can click the \n",
      "appropriate \n",
      "test\n",
      " \n",
      "which \n",
      "will have two buttons\n",
      ": \n",
      " \n",
      "      \n",
      "(i) \n",
      "one to\n",
      " \n",
      "open \n",
      "the Test and other for \n",
      "(ii) \n",
      "scan and upload. If you use \n",
      "mobile\n",
      " \n",
      "to take the test click \n",
      "\n",
      ".\n",
      " \n",
      "If you want to use laptop or \n",
      "des\n",
      "k\n",
      "top to ta\n",
      "k\n",
      "e the test \n",
      "and \n",
      "you \n",
      "need to\n",
      " \n",
      "simultaneously login in \n",
      "both in your laptop and also in \n",
      "your mobile\n",
      ". You need to click \n",
      "\n",
      " \n",
      "in laptop and\n",
      " \n",
      "\n",
      "scan and upload\n",
      "\n",
      " \n",
      "in your \n",
      "mobile. \n",
      "This is to ensure to take good quality images for uploading.\n",
      " \n",
      "When you click \n",
      "\n",
      " \n",
      "it will take you \n",
      "to a page \n",
      "which will \n",
      "check \n",
      "your \n",
      "environment\n",
      ".\n",
      " \n",
      " \n",
      "\n",
      " \n",
      "In case a student loses connectivity, he/she should log in again to resume te\n",
      "st within \n",
      "1\n",
      "0 minutes if \n",
      "connection restores. If connectivity \n",
      "is not available\n",
      " \n",
      "for a longer duration student \n",
      "must\n",
      " \n",
      "get i\n",
      "n\n",
      " \n",
      "touch \n",
      "with \n",
      "the Proctor\n",
      " \n",
      "on call and \n",
      "resume test \n",
      "if permitted\n",
      ".\n",
      " \n",
      "\n",
      " \n",
      "Students should read all the instructions at the start of question paper \n",
      "before commencing work\n",
      " \n",
      "\n",
      " \n",
      "Candidates are not permitted to leave their desk to access water; it must\n",
      " \n",
      "be\n",
      " \n",
      "within reach at \n",
      "the\n",
      " \n",
      "commencement of the examination\n",
      " \n",
      "and, where applicable, viewable by the device camera \n",
      "at the commencement of the examination.\n",
      " \n",
      "\n"
     ]
    }
   ],
   "source": [
    "# Perform import\n",
    "\n",
    "import PyPDF2 as pypdf2\n",
    "# Open the file as a binary object\n",
    "myFile = open('./Code_of_Conduct_for_Students.pdf','rb')\n",
    "\n",
    "# Use PyPDF2 to read the text of the file\n",
    "myFile_reader= pypdf2.PdfFileReader(myFile)\n",
    "\n",
    "\n",
    "# Get the text from page 2 (CHALLENGE: Do this in one step!)\n",
    "page_two_text = myFile_reader.getPage(1).extractText()\n",
    "\n",
    "\n",
    "\n",
    "# Close the file\n",
    "\n",
    "myFile.close()\n",
    "# Print the contents of page_two_text\n",
    "print(page_two_text)"
   ]
  },
  {
   "cell_type": "markdown",
   "metadata": {},
   "source": [
    "#### 5. Open the file `contacts.txt` in append mode. Add the text of page 2 from above to `contacts.txt`.\n",
    "\n",
    "#### CHALLENGE: See if you can remove the word \"AUTHORS:\""
   ]
  },
  {
   "cell_type": "code",
   "execution_count": 11,
   "metadata": {},
   "outputs": [],
   "source": [
    "# Simple Solution:\n",
    "\n",
    "contactFile = open(\"contacts.txt\",'a+')\n",
    "contactFile.write(page_two_text)\n",
    "contactFile.close()\n",
    "\n"
   ]
  },
  {
   "cell_type": "code",
   "execution_count": 12,
   "metadata": {},
   "outputs": [
    {
     "ename": "SyntaxError",
     "evalue": "invalid syntax (<ipython-input-12-51f7e0b56257>, line 4)",
     "output_type": "error",
     "traceback": [
      "\u001b[1;36m  File \u001b[1;32m\"<ipython-input-12-51f7e0b56257>\"\u001b[1;36m, line \u001b[1;32m4\u001b[0m\n\u001b[1;33m    First_Name Last_Name, Title, Extension, Email\u001b[0m\n\u001b[1;37m               ^\u001b[0m\n\u001b[1;31mSyntaxError\u001b[0m\u001b[1;31m:\u001b[0m invalid syntax\n"
     ]
    }
   ],
   "source": [
    "# CHALLENGE Solution (re-run the %%writefile cell above to obtain an unmodified contacts.txt file):\n",
    "\n",
    "%%writefile contacts.txt\n",
    "First_Name Last_Name, Title, Extension, Email\n",
    " \n",
    "Amy Baker, Finance Chair, x345, abaker@ourcompany.com\n",
    " \n",
    "Chris Donaldson, Accounting Dir., x621, cdonaldson@ourcompany.com\n",
    " \n",
    "Erin Freeman, Sr. VP, x879, efreeman@ourcompany.com\n",
    "\n"
   ]
  },
  {
   "cell_type": "markdown",
   "metadata": {},
   "source": [
    "## Regular Expressions\n",
    "#### 6. Using the `page_two_text` variable created above, extract any email addresses that were contained in the file `Business_Proposal.pdf`."
   ]
  },
  {
   "cell_type": "code",
   "execution_count": 14,
   "metadata": {},
   "outputs": [
    {
     "data": {
      "text/plain": [
       "[]"
      ]
     },
     "execution_count": 14,
     "metadata": {},
     "output_type": "execute_result"
    }
   ],
   "source": [
    "import re\n",
    "\n",
    "# Enter your regex pattern here. This may take several tries!\n",
    "pattern = r'\\w+@\\w+'\n",
    "\n",
    "re.findall(pattern, page_two_text)"
   ]
  },
  {
   "cell_type": "markdown",
   "metadata": {},
   "source": [
    "### Great job!"
   ]
  }
 ],
 "metadata": {
  "kernelspec": {
   "display_name": "Python 3",
   "language": "python",
   "name": "python3"
  },
  "language_info": {
   "codemirror_mode": {
    "name": "ipython",
    "version": 3
   },
   "file_extension": ".py",
   "mimetype": "text/x-python",
   "name": "python",
   "nbconvert_exporter": "python",
   "pygments_lexer": "ipython3",
   "version": "3.8.5"
  }
 },
 "nbformat": 4,
 "nbformat_minor": 2
}
