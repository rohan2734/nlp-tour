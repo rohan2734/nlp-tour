{
 "cells": [
  {
   "cell_type": "code",
   "execution_count": 135,
   "id": "stupid-change",
   "metadata": {},
   "outputs": [],
   "source": [
    "import spacy\n",
    "from spacy.tokens import Span"
   ]
  },
  {
   "cell_type": "code",
   "execution_count": 136,
   "id": "cordless-ceramic",
   "metadata": {},
   "outputs": [],
   "source": [
    "nlp =spacy.load('en_core_web_sm')"
   ]
  },
  {
   "cell_type": "code",
   "execution_count": 137,
   "id": "pursuant-opinion",
   "metadata": {},
   "outputs": [],
   "source": [
    "def show_ents(doc):\n",
    "    if doc.ents:#if the doc has entities\n",
    "        for ent in doc.ents:\n",
    "            print(ent.text + ' - ' + ent.label_ + ' - ' + str(spacy.explain(ent.label_)))\n",
    "    else:\n",
    "        print('No entities found')"
   ]
  },
  {
   "cell_type": "code",
   "execution_count": 138,
   "id": "defined-poland",
   "metadata": {},
   "outputs": [],
   "source": [
    "doc = nlp(u\"Hi how are you?\")"
   ]
  },
  {
   "cell_type": "code",
   "execution_count": 139,
   "id": "cultural-connecticut",
   "metadata": {},
   "outputs": [
    {
     "name": "stdout",
     "output_type": "stream",
     "text": [
      "No entities found\n"
     ]
    }
   ],
   "source": [
    "show_ents(doc)"
   ]
  },
  {
   "cell_type": "code",
   "execution_count": 140,
   "id": "human-telephone",
   "metadata": {},
   "outputs": [],
   "source": [
    "doc = nlp(u\"May I go to Washington, DC next May to see the Waashington Monument?\")"
   ]
  },
  {
   "cell_type": "code",
   "execution_count": 141,
   "id": "stainless-technician",
   "metadata": {},
   "outputs": [
    {
     "name": "stdout",
     "output_type": "stream",
     "text": [
      "Washington, DC - GPE - Countries, cities, states\n",
      "next May - DATE - Absolute or relative dates or periods\n"
     ]
    }
   ],
   "source": [
    "show_ents(doc)\n",
    "#country,city,state\n",
    "#Date\n",
    "#organisation"
   ]
  },
  {
   "cell_type": "code",
   "execution_count": 142,
   "id": "secure-collar",
   "metadata": {},
   "outputs": [],
   "source": [
    "doc = nlp(u\"Can I please have 500 dollars of Microsoft stock?\")"
   ]
  },
  {
   "cell_type": "code",
   "execution_count": 143,
   "id": "demographic-exercise",
   "metadata": {},
   "outputs": [
    {
     "name": "stdout",
     "output_type": "stream",
     "text": [
      "500 dollars - MONEY - Monetary values, including unit\n",
      "Microsoft - ORG - Companies, agencies, institutions, etc.\n"
     ]
    }
   ],
   "source": [
    "show_ents(doc)"
   ]
  },
  {
   "cell_type": "code",
   "execution_count": 144,
   "id": "norwegian-discovery",
   "metadata": {},
   "outputs": [],
   "source": [
    "#money\n",
    "#organisations"
   ]
  },
  {
   "cell_type": "code",
   "execution_count": 145,
   "id": "exceptional-comedy",
   "metadata": {},
   "outputs": [],
   "source": [
    "doc = nlp(u\"Tesla to build a U.K factory for $6 million\")"
   ]
  },
  {
   "cell_type": "code",
   "execution_count": 146,
   "id": "dental-folder",
   "metadata": {},
   "outputs": [
    {
     "name": "stdout",
     "output_type": "stream",
     "text": [
      "U.K - GPE - Countries, cities, states\n",
      "$6 million - MONEY - Monetary values, including unit\n"
     ]
    }
   ],
   "source": [
    "show_ents(doc)"
   ]
  },
  {
   "cell_type": "code",
   "execution_count": 104,
   "id": "interim-robert",
   "metadata": {},
   "outputs": [],
   "source": [
    "#country\n",
    "#money"
   ]
  },
  {
   "cell_type": "code",
   "execution_count": 105,
   "id": "characteristic-parts",
   "metadata": {},
   "outputs": [],
   "source": [
    "#adding tesla to entity as an organisation\n",
    "#custom entities\n",
    "ORG = doc.vocab.strings[u\"ORG\"]"
   ]
  },
  {
   "cell_type": "code",
   "execution_count": 106,
   "id": "approved-valentine",
   "metadata": {},
   "outputs": [
    {
     "data": {
      "text/plain": [
       "383"
      ]
     },
     "execution_count": 106,
     "metadata": {},
     "output_type": "execute_result"
    }
   ],
   "source": [
    "ORG"
   ]
  },
  {
   "cell_type": "code",
   "execution_count": 107,
   "id": "global-pendant",
   "metadata": {},
   "outputs": [],
   "source": [
    "new_ent = Span(doc,0,0,label=ORG)\n",
    "#very first token (go from 0 )"
   ]
  },
  {
   "cell_type": "code",
   "execution_count": 108,
   "id": "handmade-salvation",
   "metadata": {},
   "outputs": [
    {
     "name": "stdout",
     "output_type": "stream",
     "text": [
      "U.K - GPE - Countries, cities, states\n",
      "$6 million - MONEY - Monetary values, including unit\n"
     ]
    }
   ],
   "source": [
    "doc.ents=list(doc.ents) + [new_ent]#adding a new item (we can also use append)\n",
    "# doc.ents = list(doc.ents).append(new_ent)\n",
    "# print(doc)\n",
    "show_ents(doc)\n"
   ]
  },
  {
   "cell_type": "code",
   "execution_count": null,
   "id": "christian-liver",
   "metadata": {},
   "outputs": [],
   "source": []
  },
  {
   "cell_type": "code",
   "execution_count": 109,
   "id": "federal-lotus",
   "metadata": {},
   "outputs": [],
   "source": [
    "#NER part -2"
   ]
  },
  {
   "cell_type": "code",
   "execution_count": 113,
   "id": "capable-guitar",
   "metadata": {},
   "outputs": [],
   "source": [
    "doc = nlp(u\"Our company created a brand new vacuum cleaner.\"\n",
    "         u\"This new vacuum-cleaner is the best in show.\")"
   ]
  },
  {
   "cell_type": "code",
   "execution_count": 114,
   "id": "incorporated-daughter",
   "metadata": {},
   "outputs": [
    {
     "name": "stdout",
     "output_type": "stream",
     "text": [
      "No entities found\n"
     ]
    }
   ],
   "source": [
    "show_ents(doc)\n",
    "#to make sure that vacuum cleaner is not added as an entity"
   ]
  },
  {
   "cell_type": "code",
   "execution_count": 115,
   "id": "numerical-reasoning",
   "metadata": {},
   "outputs": [],
   "source": [
    "from spacy.matcher import PhraseMatcher\n",
    "#import phrase matcher"
   ]
  },
  {
   "cell_type": "code",
   "execution_count": 116,
   "id": "organic-september",
   "metadata": {},
   "outputs": [],
   "source": [
    "matcher = PhraseMatcher(nlp.vocab)"
   ]
  },
  {
   "cell_type": "code",
   "execution_count": 117,
   "id": "commercial-slovakia",
   "metadata": {},
   "outputs": [],
   "source": [
    "phrase_list = ['vacuum cleaner','vacuum-cleaner']\n",
    "#create desired list of patterns, \n",
    "#so we make a list of phrases we want to add as  a  named entity"
   ]
  },
  {
   "cell_type": "code",
   "execution_count": 118,
   "id": "radical-flexibility",
   "metadata": {},
   "outputs": [],
   "source": [
    "phrase_patterns = [nlp(text) for text in phrase_list]\n",
    "#we define the phrase patters by passing them into nlp function"
   ]
  },
  {
   "cell_type": "code",
   "execution_count": 119,
   "id": "polar-philosophy",
   "metadata": {},
   "outputs": [],
   "source": [
    "#apply patterns to add our matcher object\n",
    "matcher.add('newproduct',None,*phrase_patterns)\n",
    "#we can name the entity as we wish"
   ]
  },
  {
   "cell_type": "code",
   "execution_count": 120,
   "id": "boring-transfer",
   "metadata": {},
   "outputs": [],
   "source": [
    "found_matches = matcher(doc)"
   ]
  },
  {
   "cell_type": "code",
   "execution_count": 121,
   "id": "spare-sleeve",
   "metadata": {},
   "outputs": [
    {
     "data": {
      "text/plain": [
       "[(2689272359382549672, 6, 8), (2689272359382549672, 11, 14)]"
      ]
     },
     "execution_count": 121,
     "metadata": {},
     "output_type": "execute_result"
    }
   ],
   "source": [
    "found_matches"
   ]
  },
  {
   "cell_type": "code",
   "execution_count": 122,
   "id": "ignored-scanning",
   "metadata": {},
   "outputs": [],
   "source": [
    "#from here, we can create spans for each match, and create named entities for that\n",
    "from spacy.tokens import Span"
   ]
  },
  {
   "cell_type": "code",
   "execution_count": 123,
   "id": "located-discount",
   "metadata": {},
   "outputs": [],
   "source": [
    "PROD = doc.vocab.strings[u\"PRODUCT\"]"
   ]
  },
  {
   "cell_type": "code",
   "execution_count": 124,
   "id": "weekly-tamil",
   "metadata": {},
   "outputs": [],
   "source": [
    "#we care about start and end of the tuples\n",
    "#pass the doc to the span\n",
    "#for each match, grab index[1] as start, and index[2] as end\n",
    "\n",
    "#now we are going to do this for every match\n",
    "new_ents = [Span(doc,match[1],match[2],label=PROD) for match in found_matches]"
   ]
  },
  {
   "cell_type": "code",
   "execution_count": 125,
   "id": "changed-river",
   "metadata": {},
   "outputs": [],
   "source": [
    "#we take the original entities, doc.ents\n",
    "doc.ents = list(doc.ents) + new_ents"
   ]
  },
  {
   "cell_type": "code",
   "execution_count": 126,
   "id": "affected-vaccine",
   "metadata": {},
   "outputs": [
    {
     "name": "stdout",
     "output_type": "stream",
     "text": [
      "vacuum cleaner - PRODUCT - Objects, vehicles, foods, etc. (not services)\n",
      "vacuum-cleaner - PRODUCT - Objects, vehicles, foods, etc. (not services)\n"
     ]
    }
   ],
   "source": [
    "show_ents(doc)"
   ]
  },
  {
   "cell_type": "code",
   "execution_count": 127,
   "id": "rural-variance",
   "metadata": {},
   "outputs": [],
   "source": [
    "#returns the vaccum cleaner, and vacuum cleaner both as entities"
   ]
  },
  {
   "cell_type": "code",
   "execution_count": 128,
   "id": "invisible-realtor",
   "metadata": {},
   "outputs": [],
   "source": [
    "#for counting the number of entities, spacy doesnt have any count_by method\n",
    "#we can do this with list comprehension\n",
    "\n"
   ]
  },
  {
   "cell_type": "code",
   "execution_count": 129,
   "id": "difficult-builder",
   "metadata": {},
   "outputs": [],
   "source": [
    "doc = nlp(u\"Originally I paid $29.95 for this car toy,but now it is marked down by 10 dollars.\")"
   ]
  },
  {
   "cell_type": "code",
   "execution_count": 130,
   "id": "bizarre-contributor",
   "metadata": {},
   "outputs": [],
   "source": [
    "#figure out, how many times money was mentioned"
   ]
  },
  {
   "cell_type": "code",
   "execution_count": 131,
   "id": "advance-pleasure",
   "metadata": {},
   "outputs": [],
   "source": [
    "#we are looking for the money tag"
   ]
  },
  {
   "cell_type": "code",
   "execution_count": 132,
   "id": "recent-brazil",
   "metadata": {},
   "outputs": [],
   "source": [
    "#we can do the lsit comprehension\n"
   ]
  },
  {
   "cell_type": "code",
   "execution_count": 134,
   "id": "white-glucose",
   "metadata": {},
   "outputs": [
    {
     "data": {
      "text/plain": [
       "2"
      ]
     },
     "execution_count": 134,
     "metadata": {},
     "output_type": "execute_result"
    }
   ],
   "source": [
    "[ent for ent in doc.ents if ent.label_ == \"MONEY\"]\n",
    "len([ent for ent in doc.ents if ent.label_ == \"MONEY\"])"
   ]
  },
  {
   "cell_type": "code",
   "execution_count": null,
   "id": "portuguese-consequence",
   "metadata": {},
   "outputs": [],
   "source": []
  }
 ],
 "metadata": {
  "kernelspec": {
   "display_name": "Python 3",
   "language": "python",
   "name": "python3"
  },
  "language_info": {
   "codemirror_mode": {
    "name": "ipython",
    "version": 3
   },
   "file_extension": ".py",
   "mimetype": "text/x-python",
   "name": "python",
   "nbconvert_exporter": "python",
   "pygments_lexer": "ipython3",
   "version": "3.8.5"
  }
 },
 "nbformat": 4,
 "nbformat_minor": 5
}
