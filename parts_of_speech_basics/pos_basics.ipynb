{
 "cells": [
  {
   "cell_type": "code",
   "execution_count": 1,
   "id": "collective-actress",
   "metadata": {},
   "outputs": [],
   "source": [
    "import spacy"
   ]
  },
  {
   "cell_type": "code",
   "execution_count": 2,
   "id": "prepared-measure",
   "metadata": {},
   "outputs": [],
   "source": [
    "nlp = spacy.load('en_core_web_sm')"
   ]
  },
  {
   "cell_type": "code",
   "execution_count": 3,
   "id": "adequate-nurse",
   "metadata": {},
   "outputs": [],
   "source": [
    "doc=nlp(u\"The quick brown fox jumped over the lazy dogs back\")"
   ]
  },
  {
   "cell_type": "code",
   "execution_count": 4,
   "id": "simplified-alloy",
   "metadata": {},
   "outputs": [
    {
     "name": "stdout",
     "output_type": "stream",
     "text": [
      "The quick brown fox jumped over the lazy dogs back\n"
     ]
    }
   ],
   "source": [
    "print(doc.text)"
   ]
  },
  {
   "cell_type": "code",
   "execution_count": 9,
   "id": "interior-jefferson",
   "metadata": {},
   "outputs": [
    {
     "name": "stdout",
     "output_type": "stream",
     "text": [
      "jumped\n",
      "jumped\n",
      "VERB\n",
      "VBD\n"
     ]
    }
   ],
   "source": [
    "print(doc[4])\n",
    "print(doc[4].text)\n",
    "print(doc[4].pos_)\n",
    "print(doc[4].tag_)\n",
    "print(doc[4].)\n",
    "#wihtout the underscore, it will give u the numerical id"
   ]
  },
  {
   "cell_type": "code",
   "execution_count": 13,
   "id": "elementary-symposium",
   "metadata": {},
   "outputs": [
    {
     "name": "stdout",
     "output_type": "stream",
     "text": [
      "The         DET         DT          determiner\n",
      "quick       ADJ         JJ          adjective\n",
      "brown       ADJ         JJ          adjective\n",
      "fox         NOUN        NN          noun, singular or mass\n",
      "jumped      VERB        VBD         verb, past tense\n",
      "over        ADP         IN          conjunction, subordinating or preposition\n",
      "the         DET         DT          determiner\n",
      "lazy        ADJ         JJ          adjective\n",
      "dogs        NOUN        NNS         noun, plural\n",
      "back        ADV         RB          adverb\n"
     ]
    }
   ],
   "source": [
    "for token in doc:\n",
    "    print(f\"{token.text:{10}}  {token.pos_:{10}}  {token.tag_:{10}}  {spacy.explain(token.tag_)}\")"
   ]
  },
  {
   "cell_type": "code",
   "execution_count": null,
   "id": "amino-dominican",
   "metadata": {},
   "outputs": [],
   "source": [
    "doc = nlp(u\"I read books on NLP.\")"
   ]
  }
 ],
 "metadata": {
  "kernelspec": {
   "display_name": "Python 3",
   "language": "python",
   "name": "python3"
  },
  "language_info": {
   "codemirror_mode": {
    "name": "ipython",
    "version": 3
   },
   "file_extension": ".py",
   "mimetype": "text/x-python",
   "name": "python",
   "nbconvert_exporter": "python",
   "pygments_lexer": "ipython3",
   "version": "3.8.5"
  }
 },
 "nbformat": 4,
 "nbformat_minor": 5
}
