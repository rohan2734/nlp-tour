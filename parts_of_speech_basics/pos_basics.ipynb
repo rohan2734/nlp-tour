{
 "cells": [
  {
   "cell_type": "code",
   "execution_count": 2,
   "id": "collective-actress",
   "metadata": {},
   "outputs": [],
   "source": [
    "import spacy"
   ]
  },
  {
   "cell_type": "code",
   "execution_count": 3,
   "id": "prepared-measure",
   "metadata": {},
   "outputs": [],
   "source": [
    "nlp = spacy.load('en_core_web_sm')"
   ]
  },
  {
   "cell_type": "code",
   "execution_count": 4,
   "id": "adequate-nurse",
   "metadata": {},
   "outputs": [],
   "source": [
    "doc=nlp(u\"The quick brown fox jumped over the lazy dogs back\")"
   ]
  },
  {
   "cell_type": "code",
   "execution_count": 5,
   "id": "simplified-alloy",
   "metadata": {},
   "outputs": [
    {
     "name": "stdout",
     "output_type": "stream",
     "text": [
      "The quick brown fox jumped over the lazy dogs back\n"
     ]
    }
   ],
   "source": [
    "print(doc.text)"
   ]
  },
  {
   "cell_type": "code",
   "execution_count": 7,
   "id": "interior-jefferson",
   "metadata": {},
   "outputs": [
    {
     "name": "stdout",
     "output_type": "stream",
     "text": [
      "jumped\n",
      "jumped\n",
      "VERB\n",
      "VBD\n"
     ]
    }
   ],
   "source": [
    "print(doc[4])\n",
    "print(doc[4].text)\n",
    "print(doc[4].pos_)\n",
    "print(doc[4].tag_)\n",
    "# print(doc[4].)\n",
    "#wihtout the underscore, it will give u the numerical id"
   ]
  },
  {
   "cell_type": "code",
   "execution_count": null,
   "id": "elementary-symposium",
   "metadata": {},
   "outputs": [],
   "source": [
    "for token in doc:\n",
    "    print(f\"{token.text:{10}}  {token.pos_:{10}}  {token.tag_:{10}}  {spacy.explain(token.tag_)}\")"
   ]
  },
  {
   "cell_type": "code",
   "execution_count": 29,
   "id": "amino-dominican",
   "metadata": {},
   "outputs": [],
   "source": [
    "doc = nlp(u\"I read books on NLP.\")\n",
    "# doc= nlp(u\"I am reading books on NLP\")"
   ]
  },
  {
   "cell_type": "code",
   "execution_count": 30,
   "id": "executed-atlas",
   "metadata": {},
   "outputs": [
    {
     "name": "stdout",
     "output_type": "stream",
     "text": [
      "read        VERB        VBD         verb, past tense\n"
     ]
    }
   ],
   "source": [
    "word = doc[1]\n",
    "\n",
    "token = word\n",
    "print(f\"{token.text:{10}}  {token.pos_:{10}}  {token.tag_:{10}}  {spacy.explain(token.tag_)}\")"
   ]
  },
  {
   "cell_type": "code",
   "execution_count": 31,
   "id": "manufactured-color",
   "metadata": {},
   "outputs": [],
   "source": [
    "doc = nlp(u\"I read a book on NLP.\")"
   ]
  },
  {
   "cell_type": "code",
   "execution_count": 32,
   "id": "bright-arbitration",
   "metadata": {},
   "outputs": [
    {
     "name": "stdout",
     "output_type": "stream",
     "text": [
      "read        VERB        VBD         verb, past tense\n"
     ]
    }
   ],
   "source": [
    "word = doc[1]\n",
    "\n",
    "token = word\n",
    "print(f\"{token.text:{10}}  {token.pos_:{10}}  {token.tag_:{10}}  {spacy.explain(token.tag_)}\")"
   ]
  },
  {
   "cell_type": "code",
   "execution_count": null,
   "id": "further-repair",
   "metadata": {},
   "outputs": [],
   "source": [
    "doc=nlp(u\"The quick brown fox jumped over the lazy dogs back.\")"
   ]
  },
  {
   "cell_type": "code",
   "execution_count": 57,
   "id": "administrative-contamination",
   "metadata": {},
   "outputs": [],
   "source": [
    "POS_counts = doc.count_by(spacy.attrs.POS)"
   ]
  },
  {
   "cell_type": "code",
   "execution_count": 34,
   "id": "arranged-yukon",
   "metadata": {},
   "outputs": [
    {
     "data": {
      "text/plain": [
       "{95: 1, 100: 1, 90: 1, 92: 1, 85: 1, 96: 1, 97: 1}"
      ]
     },
     "execution_count": 34,
     "metadata": {},
     "output_type": "execute_result"
    }
   ],
   "source": [
    "POS_counts"
   ]
  },
  {
   "cell_type": "code",
   "execution_count": 37,
   "id": "trying-bones",
   "metadata": {},
   "outputs": [
    {
     "data": {
      "text/plain": [
       "'VERB'"
      ]
     },
     "execution_count": 37,
     "metadata": {},
     "output_type": "execute_result"
    }
   ],
   "source": [
    "#numercial identifiers\n",
    "doc.vocab[100].text\n"
   ]
  },
  {
   "cell_type": "code",
   "execution_count": 40,
   "id": "funded-transfer",
   "metadata": {},
   "outputs": [
    {
     "data": {
      "text/plain": [
       "90"
      ]
     },
     "execution_count": 40,
     "metadata": {},
     "output_type": "execute_result"
    }
   ],
   "source": [
    "doc[2].pos_\n",
    "doc[2].pos"
   ]
  },
  {
   "cell_type": "code",
   "execution_count": 41,
   "id": "bored-graphic",
   "metadata": {},
   "outputs": [
    {
     "name": "stdout",
     "output_type": "stream",
     "text": [
      "85. ADP   1\n",
      "90. DET   1\n",
      "92. NOUN  1\n",
      "95. PRON  1\n",
      "96. PROPN 1\n",
      "97. PUNCT 1\n",
      "100. VERB  1\n"
     ]
    }
   ],
   "source": [
    "for key,value in sorted(POS_counts.items()):#items is list of tuples\n",
    "    print(f\"{key}. {doc.vocab[key].text:{5}} {value}\")"
   ]
  },
  {
   "cell_type": "code",
   "execution_count": 51,
   "id": "synthetic-transaction",
   "metadata": {},
   "outputs": [
    {
     "name": "stdout",
     "output_type": "stream",
     "text": [
      "1292078113972184607. IN    1\n",
      "12646065887601541794. .     1\n",
      "13656873538139661788. PRP   1\n",
      "15267657372422890137. DT    1\n",
      "15308085513773655218. NN    1\n",
      "15794550382381185553. NNP   1\n",
      "17109001835818727656. VBD   1\n"
     ]
    }
   ],
   "source": [
    "TAG_counts = doc.count_by(spacy.attrs.TAG)\n",
    "\n",
    "for key,value in sorted(TAG_counts.items()):#items is list of tuples\n",
    "    print(f\"{key}. {doc.vocab[key].text:{5}} {value}\")\n",
    "\n"
   ]
  },
  {
   "cell_type": "code",
   "execution_count": 53,
   "id": "vietnamese-pointer",
   "metadata": {},
   "outputs": [
    {
     "data": {
      "text/plain": [
       "790"
      ]
     },
     "execution_count": 53,
     "metadata": {},
     "output_type": "execute_result"
    }
   ],
   "source": [
    "len(doc.vocab)"
   ]
  },
  {
   "cell_type": "code",
   "execution_count": 55,
   "id": "polish-angle",
   "metadata": {},
   "outputs": [
    {
     "name": "stdout",
     "output_type": "stream",
     "text": [
      "415. det   1\n",
      "416. dobj  1\n",
      "429. nsubj 1\n",
      "439. pobj  1\n",
      "443. prep  1\n",
      "445. punct 1\n",
      "8206900633647566924. ROOT  1\n"
     ]
    }
   ],
   "source": [
    "DEP_counts = doc.count_by(spacy.attrs.DEP)\n",
    "\n",
    "for key,value in sorted(DEP_counts.items()):#items is list of tuples\n",
    "    print(f\"{key}. {doc.vocab[key].text:{5}} {value}\")\n",
    "    \n",
    "    #less common ones are larger numbers\n"
   ]
  },
  {
   "cell_type": "code",
   "execution_count": 58,
   "id": "upset-atmosphere",
   "metadata": {},
   "outputs": [],
   "source": [
    "#we can always call the tags, with pos_,  tag_, \n",
    "#and we can also want spacy to explain with spacy.explain(token.tag_)\n",
    "#if we want to do a count, we need to call the count_by, on the document\n",
    "#and pass spacy.attrs. (and whatever attribute you want)"
   ]
  },
  {
   "cell_type": "code",
   "execution_count": null,
   "id": "czech-father",
   "metadata": {},
   "outputs": [],
   "source": []
  }
 ],
 "metadata": {
  "kernelspec": {
   "display_name": "Python 3",
   "language": "python",
   "name": "python3"
  },
  "language_info": {
   "codemirror_mode": {
    "name": "ipython",
    "version": 3
   },
   "file_extension": ".py",
   "mimetype": "text/x-python",
   "name": "python",
   "nbconvert_exporter": "python",
   "pygments_lexer": "ipython3",
   "version": "3.8.5"
  }
 },
 "nbformat": 4,
 "nbformat_minor": 5
}
