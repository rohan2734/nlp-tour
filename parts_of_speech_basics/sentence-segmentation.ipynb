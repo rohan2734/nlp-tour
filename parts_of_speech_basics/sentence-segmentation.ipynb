{
 "cells": [
  {
   "cell_type": "code",
   "execution_count": 16,
   "id": "outstanding-laundry",
   "metadata": {},
   "outputs": [],
   "source": [
    "#perform imports"
   ]
  },
  {
   "cell_type": "code",
   "execution_count": 17,
   "id": "adult-complement",
   "metadata": {},
   "outputs": [],
   "source": [
    "import spacy\n",
    "nlp  = spacy.load('en_core_web_sm')"
   ]
  },
  {
   "cell_type": "code",
   "execution_count": 18,
   "id": "spiritual-handbook",
   "metadata": {},
   "outputs": [],
   "source": [
    "doc = nlp(u\"This is the first sentence. This is another sentence. This is the last sentence \")"
   ]
  },
  {
   "cell_type": "code",
   "execution_count": 19,
   "id": "united-optics",
   "metadata": {},
   "outputs": [
    {
     "name": "stdout",
     "output_type": "stream",
     "text": [
      "This is the first sentence.\n",
      "This is another sentence.\n",
      "This is the last sentence\n"
     ]
    }
   ],
   "source": [
    "#doc.sents is a generator\n",
    "for sent in doc.sents:\n",
    "    print(sent)"
   ]
  },
  {
   "cell_type": "code",
   "execution_count": 20,
   "id": "front-alert",
   "metadata": {},
   "outputs": [
    {
     "ename": "TypeError",
     "evalue": "'generator' object is not subscriptable",
     "output_type": "error",
     "traceback": [
      "\u001b[1;31m--------------------------------------------------------\u001b[0m",
      "\u001b[1;31mTypeError\u001b[0m              Traceback (most recent call last)",
      "\u001b[1;32m<ipython-input-20-55463d493a15>\u001b[0m in \u001b[0;36m<module>\u001b[1;34m\u001b[0m\n\u001b[0;32m      1\u001b[0m \u001b[1;31m#it generates the sentences, instead of saving them, for saving memory\u001b[0m\u001b[1;33m\u001b[0m\u001b[1;33m\u001b[0m\u001b[1;33m\u001b[0m\u001b[0m\n\u001b[1;32m----> 2\u001b[1;33m \u001b[0mdoc\u001b[0m\u001b[1;33m.\u001b[0m\u001b[0msents\u001b[0m\u001b[1;33m[\u001b[0m\u001b[1;36m0\u001b[0m\u001b[1;33m]\u001b[0m\u001b[1;33m\u001b[0m\u001b[1;33m\u001b[0m\u001b[0m\n\u001b[0m",
      "\u001b[1;31mTypeError\u001b[0m: 'generator' object is not subscriptable"
     ]
    }
   ],
   "source": [
    "#it generates the sentences, instead of saving them, for saving memory\n",
    "doc.sents[0]"
   ]
  },
  {
   "cell_type": "code",
   "execution_count": null,
   "id": "standing-laugh",
   "metadata": {},
   "outputs": [],
   "source": [
    "doc[0]"
   ]
  },
  {
   "cell_type": "code",
   "execution_count": null,
   "id": "dangerous-portable",
   "metadata": {},
   "outputs": [],
   "source": [
    "#if we want to do that doc.sents[0]\n",
    "#we pass it into the list\n",
    "list(doc.sents)[0]"
   ]
  },
  {
   "cell_type": "code",
   "execution_count": null,
   "id": "smaller-classics",
   "metadata": {},
   "outputs": [],
   "source": [
    "type(list(doc.sents)[0])\n",
    "#these are spacy span objects, these are not normal strings"
   ]
  },
  {
   "cell_type": "code",
   "execution_count": null,
   "id": "correct-harvest",
   "metadata": {},
   "outputs": [],
   "source": [
    "#spacy is good ad seperating sentences , based on start of the sentence or the end of the sentence\n",
    "#how ever, we might have  a custom dataset, and we want to segment based on few custom rules, like based on a semi colon\n"
   ]
  },
  {
   "cell_type": "code",
   "execution_count": null,
   "id": "usual-justice",
   "metadata": {},
   "outputs": [],
   "source": [
    "doc = nlp(u'\"Management is doing the right things; leadership is doing the right things.\"-Peter Drucker')"
   ]
  },
  {
   "cell_type": "code",
   "execution_count": null,
   "id": "separate-wallet",
   "metadata": {},
   "outputs": [],
   "source": [
    "doc.text"
   ]
  },
  {
   "cell_type": "code",
   "execution_count": 21,
   "id": "certified-sponsorship",
   "metadata": {},
   "outputs": [
    {
     "data": {
      "text/plain": [
       "This is the first sentence. This is another sentence. This is the last sentence "
      ]
     },
     "execution_count": 21,
     "metadata": {},
     "output_type": "execute_result"
    }
   ],
   "source": [
    "doc"
   ]
  },
  {
   "cell_type": "code",
   "execution_count": 22,
   "id": "hairy-office",
   "metadata": {},
   "outputs": [
    {
     "name": "stdout",
     "output_type": "stream",
     "text": [
      "This is the first sentence.\n",
      "\n",
      "This is another sentence.\n",
      "\n",
      "This is the last sentence\n",
      "\n"
     ]
    }
   ],
   "source": [
    "for sent in doc.sents:\n",
    "    print(sent)\n",
    "    print()"
   ]
  },
  {
   "cell_type": "code",
   "execution_count": 23,
   "id": "competent-daughter",
   "metadata": {},
   "outputs": [],
   "source": [
    "#add a new rule to the pipeline"
   ]
  },
  {
   "cell_type": "code",
   "execution_count": 24,
   "id": "thirty-miniature",
   "metadata": {},
   "outputs": [],
   "source": [
    "#previously we seperated on the basis of periods and white spaces to see the sentences"
   ]
  },
  {
   "cell_type": "code",
   "execution_count": 25,
   "id": "neither-reader",
   "metadata": {},
   "outputs": [],
   "source": [
    "#add a sengmentation rule\n",
    "from spacy.language import Language\n",
    "\n",
    "@Language.component('set_custom_boundaries')\n",
    "def set_custom_boundaries(doc):\n",
    "#     doc.is_parsed = True\n",
    "#     for token in doc:\n",
    "    for token in doc[:-1]:\n",
    "#         print(token)\n",
    "#         print(token.i)\n",
    "        if token.text == ';':\n",
    "            doc[token.i+1].is_sent_start = True\n",
    "    return doc\n",
    "        \n",
    "# set_custom_boundaires(doc)"
   ]
  },
  {
   "cell_type": "code",
   "execution_count": 26,
   "id": "sublime-estimate",
   "metadata": {},
   "outputs": [
    {
     "data": {
      "text/plain": [
       "['tok2vec',\n",
       " 'tagger',\n",
       " 'set_custom_boundaries',\n",
       " 'parser',\n",
       " 'ner',\n",
       " 'attribute_ruler',\n",
       " 'lemmatizer']"
      ]
     },
     "execution_count": 26,
     "metadata": {},
     "output_type": "execute_result"
    }
   ],
   "source": [
    "# #\n",
    "# @Language.component(\"set_custom_boundaries\")\n",
    "\n",
    "nlp.add_pipe(\"set_custom_boundaries\",before='parser')\n",
    "\n",
    "nlp.pipe_names"
   ]
  },
  {
   "cell_type": "code",
   "execution_count": 27,
   "id": "fiscal-bikini",
   "metadata": {},
   "outputs": [
    {
     "data": {
      "text/plain": [
       "This is the first sentence. This is another sentence. This is the last"
      ]
     },
     "execution_count": 27,
     "metadata": {},
     "output_type": "execute_result"
    }
   ],
   "source": [
    "doc[:-1]\n",
    "\n"
   ]
  },
  {
   "cell_type": "code",
   "execution_count": 28,
   "id": "divine-grain",
   "metadata": {},
   "outputs": [],
   "source": [
    "doc4 = nlp(u'\"Management is doing the right things; leadership is doing the right things.\"-Peter Drucker')"
   ]
  },
  {
   "cell_type": "code",
   "execution_count": 29,
   "id": "reserved-verification",
   "metadata": {},
   "outputs": [
    {
     "name": "stdout",
     "output_type": "stream",
     "text": [
      "\"Management is doing the right things;\n",
      "leadership is doing the right things.\n",
      "\"-Peter\n",
      "Drucker\n"
     ]
    }
   ],
   "source": [
    "for sent in doc4.sents:\n",
    "    print(sent)"
   ]
  },
  {
   "cell_type": "code",
   "execution_count": 30,
   "id": "automotive-sugar",
   "metadata": {},
   "outputs": [],
   "source": [
    "#change the sengmentation rules"
   ]
  },
  {
   "cell_type": "code",
   "execution_count": 31,
   "id": "palestinian-premises",
   "metadata": {},
   "outputs": [],
   "source": [
    "nlp=spacy.load('en_core_web_sm')"
   ]
  },
  {
   "cell_type": "code",
   "execution_count": 32,
   "id": "sealed-eligibility",
   "metadata": {},
   "outputs": [],
   "source": [
    "#reload the english library"
   ]
  },
  {
   "cell_type": "code",
   "execution_count": 33,
   "id": "fancy-klein",
   "metadata": {},
   "outputs": [],
   "source": [
    "myString = u\"This is a sentence. This is another .\\n\\nThis is a  \\nthird sentence\""
   ]
  },
  {
   "cell_type": "code",
   "execution_count": 34,
   "id": "annual-intro",
   "metadata": {},
   "outputs": [
    {
     "name": "stdout",
     "output_type": "stream",
     "text": [
      "This is a sentence. This is another .\n",
      "\n",
      "This is a  \n",
      "third sentence\n"
     ]
    }
   ],
   "source": [
    "print(myString)"
   ]
  },
  {
   "cell_type": "code",
   "execution_count": 35,
   "id": "smaller-trunk",
   "metadata": {},
   "outputs": [],
   "source": [
    "#we might want to define a '/n 'as a line break, instead of period"
   ]
  },
  {
   "cell_type": "code",
   "execution_count": 36,
   "id": "golden-vertex",
   "metadata": {},
   "outputs": [],
   "source": [
    "#check the default behaviour\n",
    "doc = nlp(myString)"
   ]
  },
  {
   "cell_type": "code",
   "execution_count": 40,
   "id": "sealed-softball",
   "metadata": {},
   "outputs": [
    {
     "name": "stdout",
     "output_type": "stream",
     "text": [
      "This is a sentence.\n",
      "This is another .\n",
      "\n",
      "\n",
      "\n",
      "This is a  \n",
      "third sentence\n"
     ]
    }
   ],
   "source": [
    "for sent in doc.sents:\n",
    "    print(sent)"
   ]
  },
  {
   "cell_type": "code",
   "execution_count": 39,
   "id": "atmospheric-infrastructure",
   "metadata": {},
   "outputs": [],
   "source": [
    "# from spacy.pipeline import SentenceSegmenter"
   ]
  },
  {
   "cell_type": "code",
   "execution_count": 27,
   "id": "german-tamil",
   "metadata": {},
   "outputs": [],
   "source": [
    "def split_on_newlines(doc):\n",
    "    start = 0\n",
    "    seen_newline = False\n",
    "    \n",
    "    #word === token\n",
    "    for word in doc:\n",
    "        if seen_newline:\n",
    "            yield doc[start:word.i]#generator\n",
    "            #we yield from start to word.i\n",
    "            start=word.i\n",
    "            seen_newline = False\n",
    "        elif word.text.startswith('\\n'):\n",
    "            seen_newline=True\n",
    "        \n",
    "    yield doc[start:]"
   ]
  },
  {
   "cell_type": "code",
   "execution_count": 28,
   "id": "prescription-shooting",
   "metadata": {},
   "outputs": [
    {
     "ename": "NameError",
     "evalue": "name 'SentenceSegmenter' is not defined",
     "output_type": "error",
     "traceback": [
      "\u001b[1;31m---------------------------------------------------------------------------\u001b[0m",
      "\u001b[1;31mNameError\u001b[0m                                 Traceback (most recent call last)",
      "\u001b[1;32m<ipython-input-28-8393dd70c1ce>\u001b[0m in \u001b[0;36m<module>\u001b[1;34m\u001b[0m\n\u001b[1;32m----> 1\u001b[1;33m \u001b[0msbd\u001b[0m \u001b[1;33m=\u001b[0m \u001b[0mSentenceSegmenter\u001b[0m\u001b[1;33m(\u001b[0m\u001b[0mnlp\u001b[0m\u001b[1;33m.\u001b[0m\u001b[0mvocab\u001b[0m\u001b[1;33m,\u001b[0m\u001b[0mstrategy\u001b[0m\u001b[1;33m=\u001b[0m\u001b[0msplit_on_newlines\u001b[0m\u001b[1;33m)\u001b[0m\u001b[1;33m\u001b[0m\u001b[1;33m\u001b[0m\u001b[0m\n\u001b[0m",
      "\u001b[1;31mNameError\u001b[0m: name 'SentenceSegmenter' is not defined"
     ]
    }
   ],
   "source": [
    "sbd = SentenceSegmenter(nlp.vocab,strategy=split_on_newlines)"
   ]
  },
  {
   "cell_type": "code",
   "execution_count": 29,
   "id": "center-joining",
   "metadata": {},
   "outputs": [
    {
     "ename": "NameError",
     "evalue": "name 'sbd' is not defined",
     "output_type": "error",
     "traceback": [
      "\u001b[1;31m---------------------------------------------------------------------------\u001b[0m",
      "\u001b[1;31mNameError\u001b[0m                                 Traceback (most recent call last)",
      "\u001b[1;32m<ipython-input-29-cf2b427983d1>\u001b[0m in \u001b[0;36m<module>\u001b[1;34m\u001b[0m\n\u001b[1;32m----> 1\u001b[1;33m \u001b[0mnlp\u001b[0m\u001b[1;33m.\u001b[0m\u001b[0madd_pipe\u001b[0m\u001b[1;33m(\u001b[0m\u001b[0msbd\u001b[0m\u001b[1;33m)\u001b[0m\u001b[1;33m\u001b[0m\u001b[1;33m\u001b[0m\u001b[0m\n\u001b[0m",
      "\u001b[1;31mNameError\u001b[0m: name 'sbd' is not defined"
     ]
    }
   ],
   "source": [
    "nlp.add_pipe(sbd)"
   ]
  },
  {
   "cell_type": "code",
   "execution_count": 30,
   "id": "velvet-wichita",
   "metadata": {},
   "outputs": [],
   "source": [
    "doc=nlp(myString)"
   ]
  },
  {
   "cell_type": "code",
   "execution_count": 32,
   "id": "duplicate-administrator",
   "metadata": {},
   "outputs": [
    {
     "name": "stdout",
     "output_type": "stream",
     "text": [
      "This is a sentence.\n",
      "This is another .\n",
      "\n",
      "\n",
      "\n",
      "This is a  \n",
      "third sentence\n"
     ]
    }
   ],
   "source": [
    "for sentence in doc.sents:\n",
    "    print(sentence)"
   ]
  },
  {
   "cell_type": "code",
   "execution_count": null,
   "id": "special-iraqi",
   "metadata": {},
   "outputs": [],
   "source": []
  },
  {
   "cell_type": "code",
   "execution_count": null,
   "id": "bibliographic-input",
   "metadata": {},
   "outputs": [],
   "source": []
  },
  {
   "cell_type": "code",
   "execution_count": null,
   "id": "photographic-gateway",
   "metadata": {},
   "outputs": [],
   "source": []
  }
 ],
 "metadata": {
  "kernelspec": {
   "display_name": "Python 3",
   "language": "python",
   "name": "python3"
  },
  "language_info": {
   "codemirror_mode": {
    "name": "ipython",
    "version": 3
   },
   "file_extension": ".py",
   "mimetype": "text/x-python",
   "name": "python",
   "nbconvert_exporter": "python",
   "pygments_lexer": "ipython3",
   "version": "3.8.5"
  }
 },
 "nbformat": 4,
 "nbformat_minor": 5
}
